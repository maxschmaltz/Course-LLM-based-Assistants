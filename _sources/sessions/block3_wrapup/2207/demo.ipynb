{
 "cells": [
  {
   "cell_type": "code",
   "execution_count": null,
   "id": "1b014ea8",
   "metadata": {},
   "outputs": [],
   "source": [
    "from multi_agent.agents import ResearchLaMA"
   ]
  },
  {
   "cell_type": "code",
   "execution_count": null,
   "id": "9993733c",
   "metadata": {},
   "outputs": [],
   "source": [
    "pipeline = ResearchLaMA(\n",
    "    ... # your parameters here\n",
    ")"
   ]
  },
  {
   "cell_type": "code",
   "execution_count": null,
   "id": "f13ce8f5",
   "metadata": {},
   "outputs": [],
   "source": [
    "# now test\n",
    "research_question = \"What are the main approaches to modeling syntactic ambiguity in computational linguistics?\"\n",
    "pipeline.run(research_question)"
   ]
  },
  {
   "cell_type": "code",
   "execution_count": null,
   "id": "5dd0b3d9",
   "metadata": {},
   "outputs": [],
   "source": [
    "research_question = \"What determines whether a borrowing from another language is phonologically adapted or preserved?\"\n",
    "pipeline.run(research_question)"
   ]
  },
  {
   "cell_type": "code",
   "execution_count": null,
   "id": "9dedddfc",
   "metadata": {},
   "outputs": [],
   "source": [
    "research_question = \"What influences the emergence of evidentiality markers in a language?\"\n",
    "pipeline.run(research_question)"
   ]
  }
 ],
 "metadata": {
  "language_info": {
   "name": "python"
  }
 },
 "nbformat": 4,
 "nbformat_minor": 5
}
