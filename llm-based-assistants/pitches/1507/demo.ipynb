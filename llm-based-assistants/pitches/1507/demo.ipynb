{
 "cells": [
  {
   "cell_type": "code",
   "execution_count": null,
   "id": "1b014ea8",
   "metadata": {},
   "outputs": [],
   "source": [
    "from webagent.agents import ResumeGenerator"
   ]
  },
  {
   "cell_type": "code",
   "execution_count": null,
   "id": "9993733c",
   "metadata": {},
   "outputs": [],
   "source": [
    "pipeline = ResumeGenerator(\n",
    "    ... # your parameters here\n",
    ")"
   ]
  },
  {
   "cell_type": "code",
   "execution_count": null,
   "id": "f13ce8f5",
   "metadata": {},
   "outputs": [],
   "source": [
    "# now test a few times\n",
    "prompt = \"Generate a resume for a software engineer with 5 years of experience in Python and JavaScript, focusing on web development and cloud technologies.\"\n",
    "pipeline.run()"
   ]
  },
  {
   "cell_type": "code",
   "execution_count": null,
   "id": "79219293",
   "metadata": {},
   "outputs": [],
   "source": [
    "prompt = \"Create a resume for a time-traveling astronaut who has experience in intergalactic diplomacy, alien linguistics, and zero-gravity pizza making.\"\n",
    "pipeline.run()"
   ]
  },
  {
   "cell_type": "code",
   "execution_count": null,
   "id": "38b37554",
   "metadata": {},
   "outputs": [],
   "source": [
    "prompt = \"Lucy is a smart cat who has mastered the art of catching mice and is now looking for a job as a professional mouse catcher. Write a resume for her. Don't forget her education at the Cat Academy and her volunteer work at the local animal shelter.\"\n",
    "pipeline.run()"
   ]
  }
 ],
 "metadata": {
  "language_info": {
   "name": "python"
  }
 },
 "nbformat": 4,
 "nbformat_minor": 5
}
