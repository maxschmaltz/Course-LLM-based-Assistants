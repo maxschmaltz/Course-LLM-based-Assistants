{
 "cells": [
  {
   "cell_type": "code",
   "execution_count": null,
   "id": "1b014ea8",
   "metadata": {},
   "outputs": [],
   "source": [
    "from multi_agent.agents import SupportLaMA"
   ]
  },
  {
   "cell_type": "code",
   "execution_count": null,
   "id": "9993733c",
   "metadata": {},
   "outputs": [],
   "source": [
    "pipeline = SupportLaMA(\n",
    "    ... # your parameters here\n",
    ")"
   ]
  },
  {
   "cell_type": "code",
   "execution_count": null,
   "id": "f13ce8f5",
   "metadata": {},
   "outputs": [],
   "source": [
    "# now test\n",
    "pipeline.run()"
   ]
  }
 ],
 "metadata": {
  "language_info": {
   "name": "python"
  }
 },
 "nbformat": 4,
 "nbformat_minor": 5
}
