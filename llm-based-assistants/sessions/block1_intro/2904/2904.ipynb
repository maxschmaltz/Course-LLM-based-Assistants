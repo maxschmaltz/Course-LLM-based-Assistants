{
 "cells": [
  {
   "cell_type": "markdown",
   "id": "961d70de",
   "metadata": {},
   "source": [
    "# 29.04. Intro to LangChain 🦜🔗\n",
    "\n",
    "📍 [Download notebook and session files](https://github.com/maxschmaltz/Course-LLM-based-Assistants/tree/main/llm-based-assistants/sessions/block1_intro/2904)\n",
    "\n",
    "[LangChain](https://python.langchain.com/docs/introduction/) is a powerful framework for **building** and **orchestration** of LLM-driven applications. It enables you to chain together language models, tools, and logic into flexible pipelines while maintaining the high level of abstraction. In other words, LangChain manages most of the engineering stuff for you so you can build LLM-based applications seamlessly.\n",
    "\n",
    "This tutorial covers the **basic concepts** you need to get started:\n",
    "\n",
    "* [Runnables](#runnables)\n",
    "* [LCEL (LangChain Expression Language)](#lcel)\n",
    "* [Messages](#messages)\n",
    "* [Chat Models](#chat_models)\n",
    "* [Structured Output](#structured_output)\n",
    "* [Tool Calling](#tool_calling)"
   ]
  },
  {
   "cell_type": "markdown",
   "id": "5b740751",
   "metadata": {},
   "source": [
    "## Prerequisites\n",
    "\n",
    "To start with the tutorial, complete the steps [Prerequisites](../../../../infos/llm_inference_guide/README.md#prerequisites), [Environment Setup](../../../../infos/llm_inference_guide/README.md#environment-setup), and [Getting API Key](../../../../infos/llm_inference_guide/README.md#getting-api-key) from the [LLM Inference Guide](../../../../infos/llm_inference_guide/README.md)."
   ]
  },
  {
   "cell_type": "markdown",
   "id": "d266a22c",
   "metadata": {},
   "source": [
    "<h2 id=\"runnables\">1. Runnables 🔁</h2>\n",
    "\n",
    "A `Runnable` is the foundational building block in LangChain. It is an abstraction for anything that can be _invoked_ — meaning you can call it with an input and get an output. `Runnable`s share the same interface for the core functionality for you to be able to unify usage of components of different types under the same logic: **input in - output out**. This enables piping components for different purposes easily and intuitively."
   ]
  },
  {
   "cell_type": "code",
   "execution_count": 2,
   "id": "08d0dbff",
   "metadata": {},
   "outputs": [],
   "source": [
    "from langchain_core.runnables import Runnable, RunnableLambda"
   ]
  },
  {
   "cell_type": "code",
   "execution_count": 3,
   "id": "f599b7f6",
   "metadata": {},
   "outputs": [
    {
     "data": {
      "text/plain": [
       "'LANGCHAIN'"
      ]
     },
     "execution_count": 3,
     "metadata": {},
     "output_type": "execute_result"
    }
   ],
   "source": [
    "# define a simple function as a Runnable\n",
    "uppercase = RunnableLambda(lambda x: x.upper())\n",
    "\n",
    "uppercase.invoke(\"langchain\")  # output: LANGCHAIN"
   ]
  },
  {
   "cell_type": "code",
   "execution_count": 4,
   "id": "d08aa548",
   "metadata": {},
   "outputs": [
    {
     "data": {
      "text/plain": [
       "'niahcgnal'"
      ]
     },
     "execution_count": 4,
     "metadata": {},
     "output_type": "execute_result"
    }
   ],
   "source": [
    "# define another simple function as a Runnable\n",
    "reverse = RunnableLambda(lambda x: x[::-1])\n",
    "\n",
    "reverse.invoke(\"langchain\")  # output: niahcgnal"
   ]
  },
  {
   "cell_type": "markdown",
   "id": "d53e20ca",
   "metadata": {},
   "source": [
    "<h2 id=\"lcel\">2. LCEL (LangChain Expression Language) 🔗</h2>\n",
    "\n",
    "_LCEL_ is a syntax for composing LangChain components (so `Runnables`s) using a `|` pipe operator — similar to Unix pipes. Since LangChain components are (almost) all `Runnable`s, you can pipe them with LCEL and the output of the previous `Runnable` will become the input of the next one."
   ]
  },
  {
   "cell_type": "code",
   "execution_count": 5,
   "id": "0bf8ddd3",
   "metadata": {},
   "outputs": [
    {
     "data": {
      "text/plain": [
       "'NIAHCGNAL'"
      ]
     },
     "execution_count": 5,
     "metadata": {},
     "output_type": "execute_result"
    }
   ],
   "source": [
    "# combine the two Runnables into a single pipeline\n",
    "pipeline_c = uppercase | reverse\n",
    "\n",
    "pipeline_c.invoke(\"langchain\")  # output: NIAHCGNAL"
   ]
  },
  {
   "cell_type": "code",
   "execution_count": 6,
   "id": "93090b00",
   "metadata": {},
   "outputs": [
    {
     "data": {
      "text/plain": [
       "True"
      ]
     },
     "execution_count": 6,
     "metadata": {},
     "output_type": "execute_result"
    }
   ],
   "source": [
    "isinstance(pipeline_c, Runnable)  # output: True"
   ]
  },
  {
   "cell_type": "markdown",
   "id": "a964b612",
   "metadata": {},
   "source": [
    "LCEL also support parallelization. If you pass a `dict` with `Runnable`s as values, LangChain will run them in parallel and return a `dict` with outputs under the corresponding keys."
   ]
  },
  {
   "cell_type": "code",
   "execution_count": 7,
   "id": "393ab9ad",
   "metadata": {},
   "outputs": [
    {
     "data": {
      "text/plain": [
       "'Summary: LANGCHAIN and niahcgnal'"
      ]
     },
     "execution_count": 7,
     "metadata": {},
     "output_type": "execute_result"
    }
   ],
   "source": [
    "mapping = {\n",
    "    \"upper\": uppercase,\n",
    "    \"rev\": reverse,\n",
    "}\n",
    "\n",
    "summarizer = RunnableLambda(lambda d: f\"Summary: {d['upper']} and {d['rev']}\")\n",
    "# this will 1) run `uppercase` and put the result in `upper` key\n",
    "# 2) run `reverse` and put the result in `rev` key\n",
    "# 3) pass this dict to summarizer for it to combine the results\n",
    "pipeline_p = mapping | summarizer\n",
    "\n",
    "pipeline_p.invoke(\"langchain\")  # output: Summary: LANGCHAIN and niahcgnal"
   ]
  },
  {
   "cell_type": "code",
   "execution_count": 8,
   "id": "b94dd41c",
   "metadata": {},
   "outputs": [
    {
     "data": {
      "text/plain": [
       "True"
      ]
     },
     "execution_count": 8,
     "metadata": {},
     "output_type": "execute_result"
    }
   ],
   "source": [
    "isinstance(pipeline_p, Runnable)  # output: True"
   ]
  },
  {
   "cell_type": "markdown",
   "id": "7e847e8b",
   "metadata": {},
   "source": [
    "<h2 id=\"messages\">3. Messages 🗨️</h2>\n",
    "\n",
    "Messages are needed to give LLMs instructions. Different types of messages improve the behavior of the model in multi-turn settings.\n",
    "\n",
    "There are 3 basic message types:\n",
    "* `SystemMessage`: sets LLM role and describes the desired behavior\n",
    "* `HumanMessage`: user input\n",
    "* `AIMessage`: model output"
   ]
  },
  {
   "cell_type": "code",
   "execution_count": null,
   "id": "bb6641cf",
   "metadata": {},
   "outputs": [],
   "source": [
    "from langchain_core.messages import SystemMessage, HumanMessage"
   ]
  },
  {
   "cell_type": "code",
   "execution_count": 10,
   "id": "c470195e",
   "metadata": {},
   "outputs": [],
   "source": [
    "messages = [\n",
    "    SystemMessage(\n",
    "        content=\"You are a medieval French knight.\" # role\n",
    "    ),\n",
    "    HumanMessage(\n",
    "        content=\"Give me a summary of the Battle of Agincourt.\" # user request\n",
    "    )\n",
    "]"
   ]
  },
  {
   "cell_type": "markdown",
   "id": "00279f81",
   "metadata": {},
   "source": [
    "Messages are no `Runnable`s! They are the data in the pipeline and not a part of it itself."
   ]
  },
  {
   "cell_type": "code",
   "execution_count": 11,
   "id": "57d2e4a6",
   "metadata": {},
   "outputs": [
    {
     "data": {
      "text/plain": [
       "False"
      ]
     },
     "execution_count": 11,
     "metadata": {},
     "output_type": "execute_result"
    }
   ],
   "source": [
    "isinstance(messages[0], Runnable)  # output: False"
   ]
  },
  {
   "cell_type": "markdown",
   "id": "8c8d5f41",
   "metadata": {},
   "source": [
    "<h2 id=\"chat_models\">4. Chat Models 💬</h2>\n",
    "\n",
    "A `ChatModel` is an LLM interface that lets you configure and call LLMs easily. It receives a list of messages and passes them to the underlying LLM for it to generate the output. In fact, it is common to use `ChatModel`s even for non-conversational settings."
   ]
  },
  {
   "cell_type": "code",
   "execution_count": 12,
   "id": "c2ba3764",
   "metadata": {},
   "outputs": [],
   "source": [
    "from langchain_nvidia_ai_endpoints import ChatNVIDIA\n",
    "from langchain_core.rate_limiters import InMemoryRateLimiter"
   ]
  },
  {
   "cell_type": "code",
   "execution_count": 14,
   "id": "191089b3",
   "metadata": {},
   "outputs": [
    {
     "data": {
      "text/plain": [
       "True"
      ]
     },
     "execution_count": 14,
     "metadata": {},
     "output_type": "execute_result"
    }
   ],
   "source": [
    "# read system variables\n",
    "import os\n",
    "import dotenv\n",
    "\n",
    "dotenv.load_dotenv()    # that loads the .env file variables into os.environ"
   ]
  },
  {
   "cell_type": "code",
   "execution_count": 15,
   "id": "e922aafb",
   "metadata": {},
   "outputs": [],
   "source": [
    "# choose any model, catalogue is available under https://build.nvidia.com/models\n",
    "MODEL_NAME = \"meta/llama-3.3-70b-instruct\""
   ]
  },
  {
   "cell_type": "code",
   "execution_count": 16,
   "id": "04882c1e",
   "metadata": {},
   "outputs": [],
   "source": [
    "# this rate limiter will ensure we do not exceed the rate limit\n",
    "# of 40 RPM given by NVIDIA\n",
    "rate_limiter = InMemoryRateLimiter(\n",
    "    requests_per_second=35 / 60,  # 35 requests per minute to be sure\n",
    "    check_every_n_seconds=0.1,  # wake up every 100 ms to check whether allowed to make a request,\n",
    "    max_bucket_size=7,  # controls the maximum burst size\n",
    ")\n",
    "\n",
    "llm = ChatNVIDIA(\n",
    "    model=MODEL_NAME,\n",
    "    api_key=os.getenv(\"NVIDIA_API_KEY\"), \n",
    "    temperature=0,   # ensure reproducibility,\n",
    "    rate_limiter=rate_limiter  # bind the rate limiter\n",
    ")"
   ]
  },
  {
   "cell_type": "code",
   "execution_count": 17,
   "id": "da783cf1",
   "metadata": {},
   "outputs": [
    {
     "data": {
      "text/plain": [
       "True"
      ]
     },
     "execution_count": 17,
     "metadata": {},
     "output_type": "execute_result"
    }
   ],
   "source": [
    "isinstance(llm, Runnable)  # output: True"
   ]
  },
  {
   "cell_type": "code",
   "execution_count": 18,
   "id": "172893b1",
   "metadata": {},
   "outputs": [],
   "source": [
    "response = llm.invoke(messages)"
   ]
  },
  {
   "cell_type": "code",
   "execution_count": null,
   "id": "1c57e71f",
   "metadata": {},
   "outputs": [
    {
     "data": {
      "text/plain": [
       "langchain_core.messages.ai.AIMessage"
      ]
     },
     "execution_count": 19,
     "metadata": {},
     "output_type": "execute_result"
    }
   ],
   "source": [
    "type(response)  # output: AIMessage"
   ]
  },
  {
   "cell_type": "markdown",
   "id": "bcd359e5",
   "metadata": {},
   "source": [
    "In the standard case (no structured output or such), the generated text is stored under the `content` attribute."
   ]
  },
  {
   "cell_type": "code",
   "execution_count": 20,
   "id": "4596f217",
   "metadata": {},
   "outputs": [
    {
     "data": {
      "text/plain": [
       "AIMessage(content=\"Bonjour! Ze Battle of Agincourt, eet ees a tale of great valor and cunning, no? Eet ees a story of how ze brave knights of France, led by ze noble Charles d'Albret, ze Constable of France, clashed with ze English army, led by ze clever King Henry V.\\n\\nEet ees October 25, 1415, and ze English army, weary from zeir long march from Harfleur, ees vastly outnumbered by ze French forces. But ze English, zay are not deterred. Zay form a defensive line, with zeir longbowmen at ze forefront, and prepare to face ze French charge.\\n\\nZe French, confident in zeir numbers and zeir chivalry, charge forward with great fanfare. But ze English longbowmen, zay are a formidable foe. Zay unleash a hail of arrows upon ze French knights, cutting them down like wheat before a scythe. Ze French, weighed down by zeir heavy armor, struggle to move through ze muddy terrain, and ze English take full advantage of zis.\\n\\nAs ze battle rages on, ze French become increasingly disorganized, and ze English seize ze initiative. Ze French knights, once so proud and noble, now stumble and fall, their armor no match for ze English arrows. Ze English, on ze other hand, fight with great discipline and cohesion, and soon ze French army ees in full retreat.\\n\\nIn ze end, ze English emerge victorious, having defeated a French army many times zeir size. Ze French suffer heavy losses, including many noble knights and ze Constable of France himself. Ze English, on ze other hand, suffer relatively few casualties, and King Henry V ees hailed as a hero.\\n\\nAh, ze Battle of Agincourt, eet ees a testament to ze bravery and cunning of ze English, and a reminder that even ze greatest armies can fall to ze clever and ze bold. Vive la France, mais vive l'Angleterre aussi!\", additional_kwargs={}, response_metadata={'role': 'assistant', 'content': \"Bonjour! Ze Battle of Agincourt, eet ees a tale of great valor and cunning, no? Eet ees a story of how ze brave knights of France, led by ze noble Charles d'Albret, ze Constable of France, clashed with ze English army, led by ze clever King Henry V.\\n\\nEet ees October 25, 1415, and ze English army, weary from zeir long march from Harfleur, ees vastly outnumbered by ze French forces. But ze English, zay are not deterred. Zay form a defensive line, with zeir longbowmen at ze forefront, and prepare to face ze French charge.\\n\\nZe French, confident in zeir numbers and zeir chivalry, charge forward with great fanfare. But ze English longbowmen, zay are a formidable foe. Zay unleash a hail of arrows upon ze French knights, cutting them down like wheat before a scythe. Ze French, weighed down by zeir heavy armor, struggle to move through ze muddy terrain, and ze English take full advantage of zis.\\n\\nAs ze battle rages on, ze French become increasingly disorganized, and ze English seize ze initiative. Ze French knights, once so proud and noble, now stumble and fall, their armor no match for ze English arrows. Ze English, on ze other hand, fight with great discipline and cohesion, and soon ze French army ees in full retreat.\\n\\nIn ze end, ze English emerge victorious, having defeated a French army many times zeir size. Ze French suffer heavy losses, including many noble knights and ze Constable of France himself. Ze English, on ze other hand, suffer relatively few casualties, and King Henry V ees hailed as a hero.\\n\\nAh, ze Battle of Agincourt, eet ees a testament to ze bravery and cunning of ze English, and a reminder that even ze greatest armies can fall to ze clever and ze bold. Vive la France, mais vive l'Angleterre aussi!\", 'token_usage': {'prompt_tokens': 34, 'total_tokens': 450, 'completion_tokens': 416}, 'finish_reason': 'stop', 'model_name': 'meta/llama-3.3-70b-instruct'}, id='run-4b86228c-42b1-42d2-8e93-e1bd71e3ae1d-0', usage_metadata={'input_tokens': 34, 'output_tokens': 416, 'total_tokens': 450}, role='assistant')"
      ]
     },
     "execution_count": 20,
     "metadata": {},
     "output_type": "execute_result"
    }
   ],
   "source": [
    "response"
   ]
  },
  {
   "cell_type": "code",
   "execution_count": 22,
   "id": "bff35686",
   "metadata": {},
   "outputs": [
    {
     "name": "stdout",
     "output_type": "stream",
     "text": [
      "Bonjour! Ze Battle of Agincourt, eet ees a tale of great valor and cunning, no? Eet ees a story of how ze brave knights of France, led by ze noble Charles d'Albret, ze Constable of France, clashed with ze English army, led by ze clever King Henry V.\n",
      "\n",
      "Eet ees October 25, 1415, and ze English army, weary from zeir long march from Harfleur, ees vastly outnumbered by ze French forces. But ze English, zay are not deterred. Zay form a defensive line, with zeir longbowmen at ze forefront, and prepare to face ze French charge.\n",
      "\n",
      "Ze French, confident in zeir numbers and zeir chivalry, charge forward with great fanfare. But ze English longbowmen, zay are a formidable foe. Zay unleash a hail of arrows upon ze French knights, cutting them down like wheat before a scythe. Ze French, weighed down by zeir heavy armor, struggle to move through ze muddy terrain, and ze English take full advantage of zis.\n",
      "\n",
      "As ze battle rages on, ze French become increasingly disorganized, and ze English seize ze initiative. Ze French knights, once so proud and noble, now stumble and fall, their armor no match for ze English arrows. Ze English, on ze other hand, fight with great discipline and cohesion, and soon ze French army ees in full retreat.\n",
      "\n",
      "In ze end, ze English emerge victorious, having defeated a French army many times zeir size. Ze French suffer heavy losses, including many noble knights and ze Constable of France himself. Ze English, on ze other hand, suffer relatively few casualties, and King Henry V ees hailed as a hero.\n",
      "\n",
      "Ah, ze Battle of Agincourt, eet ees a testament to ze bravery and cunning of ze English, and a reminder that even ze greatest armies can fall to ze clever and ze bold. Vive la France, mais vive l'Angleterre aussi!\n"
     ]
    }
   ],
   "source": [
    "print(response.content)"
   ]
  },
  {
   "cell_type": "markdown",
   "id": "ed1d3078",
   "metadata": {},
   "source": [
    "<h2 id=\"structured_output\">5. Structured Output 🔌</h2>\n",
    "\n",
    "LLMs usually return text, but LangChain allows parsing that text into **structured data** like JSON. That enables **machine-readable** responses and compatibility of the components when connecting the LLMs to external stuff or have it do actions.\n",
    "\n",
    "JSON is the most widely-used structured output time, and `Pydantic` provides a Python interface to define schemas (using Python classes) that the model’s responses must conform to. That is an easy and intuitive way to provide the LLM with the instructions about how the output should be structured. `Pydantic` also takes care of parsing and validating the LLM output and is therefore a mediator between the LLM and the output JSON."
   ]
  },
  {
   "cell_type": "code",
   "execution_count": 24,
   "id": "5d92e3f3",
   "metadata": {},
   "outputs": [],
   "source": [
    "from pydantic import BaseModel, Field\n",
    "from typing import List"
   ]
  },
  {
   "cell_type": "code",
   "execution_count": 35,
   "id": "7d72d744",
   "metadata": {},
   "outputs": [],
   "source": [
    "class Battle(BaseModel):\n",
    "    name: str = Field(..., description=\"Name of the battle\")\n",
    "    year: int = Field(..., description=\"Year of the battle\")\n",
    "    location: str = Field(..., description=\"Location of the battle\")\n",
    "    description: List[str] = Field(..., description=\"Verses to describe the battle\")"
   ]
  },
  {
   "cell_type": "code",
   "execution_count": 28,
   "id": "e2ae7f9d",
   "metadata": {},
   "outputs": [],
   "source": [
    "structured_llm = llm.with_structured_output(\n",
    "    schema=Battle,\n",
    "    strict=True\n",
    ")"
   ]
  },
  {
   "cell_type": "code",
   "execution_count": 29,
   "id": "8e43e388",
   "metadata": {},
   "outputs": [],
   "source": [
    "new_messages = [\n",
    "    SystemMessage(\n",
    "        content=\"You are a medieval French knight.\"\n",
    "    ),\n",
    "    HumanMessage(\n",
    "        content=\"Give me a few verses about the Battle of Agincourt as well as information about its year and location.\"\n",
    "    )\n",
    "]\n",
    "\n",
    "response = structured_llm.invoke(new_messages)"
   ]
  },
  {
   "cell_type": "markdown",
   "id": "1be873fd",
   "metadata": {},
   "source": [
    "Note that now the response is now a `Pydantic` model and it will be structured exactly as the provided schema, so instead of `content`, you would need to refer to the actual keys you have provided in the schema."
   ]
  },
  {
   "cell_type": "code",
   "execution_count": null,
   "id": "cb26ff4c",
   "metadata": {},
   "outputs": [
    {
     "data": {
      "text/plain": [
       "True"
      ]
     },
     "execution_count": 33,
     "metadata": {},
     "output_type": "execute_result"
    }
   ],
   "source": [
    "isinstance(response, BaseModel)  # output: True"
   ]
  },
  {
   "cell_type": "code",
   "execution_count": 31,
   "id": "ba7a4d65",
   "metadata": {},
   "outputs": [
    {
     "data": {
      "text/plain": [
       "['The Battle of Agincourt took place on October 25, 1415, in Agincourt, France.',\n",
       " \"It was a pivotal battle in the Hundred Years' War between England and France.\",\n",
       " 'The English army, led by King Henry V, emerged victorious despite being vastly outnumbered.',\n",
       " 'The English longbowmen played a crucial role in the battle, inflicting heavy casualties on the French knights.',\n",
       " \"The battle is still remembered today for its significance in English history and its impact on the course of the Hundred Years' War.\"]"
      ]
     },
     "execution_count": 31,
     "metadata": {},
     "output_type": "execute_result"
    }
   ],
   "source": [
    "response.description"
   ]
  },
  {
   "cell_type": "markdown",
   "id": "86168f47",
   "metadata": {},
   "source": [
    "To convert the model into a `dict`, use `model_dump` method."
   ]
  },
  {
   "cell_type": "code",
   "execution_count": 36,
   "id": "7b30d86d",
   "metadata": {},
   "outputs": [
    {
     "data": {
      "text/plain": [
       "{'name': (FieldInfo(annotation=NoneType, required=True, description='Name of the battle'),),\n",
       " 'year': (FieldInfo(annotation=NoneType, required=True, description='Year of the battle'),),\n",
       " 'location': (FieldInfo(annotation=NoneType, required=True, description='Location of the battle'),),\n",
       " 'description': ['The Battle of Agincourt took place on October 25, 1415, in Agincourt, France.',\n",
       "  \"It was a pivotal battle in the Hundred Years' War between England and France.\",\n",
       "  'The English army, led by King Henry V, emerged victorious despite being vastly outnumbered.',\n",
       "  'The English longbowmen played a crucial role in the battle, inflicting heavy casualties on the French knights.',\n",
       "  \"The battle is still remembered today for its significance in English history and its impact on the course of the Hundred Years' War.\"]}"
      ]
     },
     "execution_count": 36,
     "metadata": {},
     "output_type": "execute_result"
    }
   ],
   "source": [
    "response.model_dump()"
   ]
  },
  {
   "cell_type": "markdown",
   "id": "853c6709",
   "metadata": {},
   "source": [
    "<h2 id=\"tool_calling\">6. Tool Calling 🛠️</h2>\n",
    "\n",
    "Tools are Python functions (hence former name: function calling) that can be \"called\" by the model to expand its abilities. It makes sense to call tool to do stuff LLMs is incapable of: real-time search, doing actions via external APIs (reading emails, scheduling appointments etc.).\n",
    "\n",
    "An **LLM cannot actually call the function**. What it does is it returns the name of the function it thinks it is now necessary to call and and the arguments provided by the scheme of the function. These arguments can then be parsed for the tool to be executed."
   ]
  },
  {
   "cell_type": "markdown",
   "id": "3cc6af18",
   "metadata": {},
   "source": [
    "The easiest way to convert a function into a tool is to use the `@tool` decorator. It will automatically create a tool scheme based on the docstring and the input and output types of the provided function."
   ]
  },
  {
   "cell_type": "code",
   "execution_count": 37,
   "id": "1e208761",
   "metadata": {},
   "outputs": [],
   "source": [
    "from langchain_core.tools import tool"
   ]
  },
  {
   "cell_type": "code",
   "execution_count": 48,
   "id": "3ad2e52e",
   "metadata": {},
   "outputs": [],
   "source": [
    "@tool\n",
    "def get_temperature(location: str, is_celcius: bool) -> int:\n",
    "    \"\"\"Get current weather.\"\"\"\n",
    "    # dummy function\n",
    "    temp = len(location) * 2\n",
    "    if not is_celcius:\n",
    "        temp = temp * 9 / 5 + 32\n",
    "    return temp\n",
    "\n",
    "# will be used to actually execute tools\n",
    "tools_index = {\n",
    "    \"get_temperature\": get_temperature,\n",
    "}"
   ]
  },
  {
   "cell_type": "code",
   "execution_count": 39,
   "id": "ef5f6e35",
   "metadata": {},
   "outputs": [],
   "source": [
    "llm_with_tool = llm.bind_tools([get_temperature])"
   ]
  },
  {
   "cell_type": "code",
   "execution_count": 40,
   "id": "e003807d",
   "metadata": {},
   "outputs": [],
   "source": [
    "messages = [\n",
    "    HumanMessage(\n",
    "        content=\"What is the temperature in Paris?\"\n",
    "    )\n",
    "]\n",
    "\n",
    "response = llm_with_tool.invoke(messages)"
   ]
  },
  {
   "cell_type": "markdown",
   "id": "8f52df5e",
   "metadata": {},
   "source": [
    "If the model decides to call tools, the respective outputs will be stored in the `tool_calls` attribute."
   ]
  },
  {
   "cell_type": "code",
   "execution_count": 44,
   "id": "f344a1e4",
   "metadata": {},
   "outputs": [
    {
     "data": {
      "text/plain": [
       "[{'name': 'get_temperature',\n",
       "  'args': {'location': 'Paris', 'is_celcius': True},\n",
       "  'id': 'chatcmpl-tool-11799ed688fa40b5893ec951c66b964a',\n",
       "  'type': 'tool_call'}]"
      ]
     },
     "execution_count": 44,
     "metadata": {},
     "output_type": "execute_result"
    }
   ],
   "source": [
    "response.tool_calls"
   ]
  },
  {
   "cell_type": "markdown",
   "id": "e5d561f1",
   "metadata": {},
   "source": [
    "To proceed with the generation, we should configure our pipeline to call the tools based on the generated name and arguments and then give it back to the LLM. Tools are also `Runnable`s so they can be executed directly with the `invoke` method. It will return a new type of messages: a `ToolMessage`."
   ]
  },
  {
   "cell_type": "code",
   "execution_count": 52,
   "id": "a1319514",
   "metadata": {},
   "outputs": [
    {
     "data": {
      "text/plain": [
       "[ToolMessage(content='10', name='get_temperature', tool_call_id='chatcmpl-tool-11799ed688fa40b5893ec951c66b964a')]"
      ]
     },
     "execution_count": 52,
     "metadata": {},
     "output_type": "execute_result"
    }
   ],
   "source": [
    "tool_outputs = []\n",
    "for tool_call in response.tool_calls:\n",
    "    tool_name = tool_call[\"name\"]\n",
    "    tool_output = tools_index[tool_name].invoke(\n",
    "        tool_call\n",
    "    )\n",
    "    tool_outputs.append(tool_output)\n",
    "\n",
    "tool_outputs"
   ]
  },
  {
   "cell_type": "markdown",
   "id": "d75a9ee9",
   "metadata": {},
   "source": [
    "Now this `ToolMessage` should be added to the rest of the messages and passed back to the LLM."
   ]
  },
  {
   "cell_type": "code",
   "execution_count": 59,
   "id": "f8e27003",
   "metadata": {},
   "outputs": [],
   "source": [
    "response = llm.invoke(messages + tool_outputs)"
   ]
  },
  {
   "cell_type": "code",
   "execution_count": 61,
   "id": "433db155",
   "metadata": {},
   "outputs": [
    {
     "data": {
      "text/plain": [
       "'The current temperature in Paris is 10 degrees Celsius.'"
      ]
     },
     "execution_count": 61,
     "metadata": {},
     "output_type": "execute_result"
    }
   ],
   "source": [
    "response.content"
   ]
  },
  {
   "cell_type": "markdown",
   "id": "307fd17c",
   "metadata": {},
   "source": [
    "## Summary 🧩\n",
    "\n",
    "| Concept          | Description                                         | Used For                          |\n",
    "|------------------|-----------------------------------------------------|-----------------------------------|\n",
    "| **Runnables**     | Core executable units                              | Universality, piping logic       |\n",
    "| **LCEL**          | Pipe syntax for chaining components                | Easy, clean composition           |\n",
    "| **Messages**      | Human / System / AI messages for giving the context               | Providing instructions to the LLM          |\n",
    "| **Chat Models**   | LLMs designed for taking message input and generating a certain output  | Conversations, reasoning, tools   |\n",
    "| **Structured Output** | Parsing LLM text into JSON / Pydantic types       | Data extraction, validation       |\n",
    "| **Tool Calling**  | Calling external Python functions from withing the LLM-based pipeline   | Extend LLMs with external logic   |"
   ]
  }
 ],
 "metadata": {
  "kernelspec": {
   "display_name": ".venv",
   "language": "python",
   "name": "python3"
  },
  "language_info": {
   "codemirror_mode": {
    "name": "ipython",
    "version": 3
   },
   "file_extension": ".py",
   "mimetype": "text/x-python",
   "name": "python",
   "nbconvert_exporter": "python",
   "pygments_lexer": "ipython3",
   "version": "3.12.5"
  }
 },
 "nbformat": 4,
 "nbformat_minor": 5
}
