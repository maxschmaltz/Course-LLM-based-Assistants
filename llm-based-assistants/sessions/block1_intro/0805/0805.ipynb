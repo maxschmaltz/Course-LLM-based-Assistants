{
 "cells": [
  {
   "cell_type": "markdown",
   "id": "961d70de",
   "metadata": {},
   "source": [
    "# 08.05. Basic LLM-based Chatbot 🤖\n",
    "\n",
    "In today'l lab, we will be making a basic LLM-based chatbot with LangChain and LangGraph. We will try a few different settings and see how they affect the behavior of the chatbot.\n",
    "\n",
    "Our plan for today:\n",
    "\n",
    "* [Recap: Messages and Chat Models](#recap)\n",
    "* [Basic Chatbot](#basic_chatbot)\n",
    "* [Switching to LangGraph](#langgraph)\n",
    "* [Checkpointing](#checkpointing)\n",
    "* [Experimenting With Prompts](#prompts)\n",
    "* [Memory Enhancement](#memory)"
   ]
  },
  {
   "cell_type": "markdown",
   "id": "0d03b701",
   "metadata": {},
   "source": [
    "## Prerequisites\n",
    "\n",
    "To start with the tutorial, complete the steps [Prerequisites](../../../infos/llm_inference_guide/README.md#prerequisites), [Environment Setup](../../../infos/llm_inference_guide/README.md#environment-setup), and [Getting API Key](../../../infos/llm_inference_guide/README.md#getting-api-key) from the [LLM Inference Guide](../../../infos/llm_inference_guide/README.md).\n",
    "\n",
    "After that, you need to install a few more packages:\n",
    "\n",
    "```\n",
    "pip install langgraph\n",
    "```"
   ]
  },
  {
   "cell_type": "markdown",
   "id": "d266a22c",
   "metadata": {},
   "source": [
    "<h2 id=\"recap\">1. Recap: Messages and Chat Models 💬</h2>\n",
    "\n",
    "`ChatModel`s provide a simple and intuitive interface for you to make inference to LLMs from different providers. It accepts a sequence of messages and returns you the generation from the LLM. Different types of messages help control the behavior of the model in multi-turn settings.\n",
    "\n",
    "There are 3 basic message types:\n",
    "* `SystemMessage`: sets LLM role and describes the desired behavior\n",
    "* `HumanMessage`: user input\n",
    "* `AIMessage`: model output"
   ]
  },
  {
   "cell_type": "code",
   "execution_count": 1,
   "id": "1c4982f4",
   "metadata": {},
   "outputs": [],
   "source": [
    "from langchain_core.messages import SystemMessage, HumanMessage\n",
    "from langchain_nvidia_ai_endpoints import ChatNVIDIA\n",
    "from langchain_core.rate_limiters import InMemoryRateLimiter"
   ]
  },
  {
   "cell_type": "code",
   "execution_count": 2,
   "id": "3742f30e",
   "metadata": {},
   "outputs": [
    {
     "data": {
      "text/plain": [
       "True"
      ]
     },
     "execution_count": 2,
     "metadata": {},
     "output_type": "execute_result"
    }
   ],
   "source": [
    "# read system variables\n",
    "import os\n",
    "import dotenv\n",
    "\n",
    "dotenv.load_dotenv()    # that loads the .env file variables into os.environ"
   ]
  },
  {
   "cell_type": "code",
   "execution_count": 3,
   "id": "424190a5",
   "metadata": {},
   "outputs": [],
   "source": [
    "messages = [\n",
    "    SystemMessage(\n",
    "        content=\"You are a helpful and honest assistant.\" # role\n",
    "    ),\n",
    "    HumanMessage(\n",
    "        content=\"How big is the distance between the Earth and the Moon?\" # user request\n",
    "    )\n",
    "]"
   ]
  },
  {
   "cell_type": "code",
   "execution_count": 3,
   "id": "0498e87a",
   "metadata": {},
   "outputs": [],
   "source": [
    "# choose any model, catalogue is available under https://build.nvidia.com/models\n",
    "MODEL_NAME = \"meta/llama-3.3-70b-instruct\"\n",
    "\n",
    "# this rate limiter will ensure we do not exceed the rate limit\n",
    "# of 40 RPM given by NVIDIA\n",
    "rate_limiter = InMemoryRateLimiter(\n",
    "    requests_per_second=35 / 60,  # 35 requests per minute to be sure\n",
    "    check_every_n_seconds=0.1,  # wake up every 100 ms to check whether allowed to make a request,\n",
    "    max_bucket_size=7,  # controls the maximum burst size\n",
    ")\n",
    "\n",
    "llm = ChatNVIDIA(\n",
    "    model=MODEL_NAME,\n",
    "    api_key=os.getenv(\"NVIDIA_API_KEY\"), \n",
    "    temperature=0,   # ensure reproducibility,\n",
    "    rate_limiter=rate_limiter  # bind the rate limiter\n",
    ")"
   ]
  },
  {
   "cell_type": "code",
   "execution_count": 5,
   "id": "1c31003d",
   "metadata": {},
   "outputs": [
    {
     "data": {
      "text/plain": [
       "\"The average distance between the Earth and the Moon is approximately 384,400 kilometers (238,900 miles). This distance is constantly changing due to the elliptical shape of the Moon's orbit around the Earth.\\n\\nAt its closest point, called perigee, the distance is about 356,400 kilometers (221,500 miles), and at its farthest point, called apogee, the distance is about 405,500 kilometers (252,000 miles).\\n\\nIt's worth noting that the Moon's orbit is not a perfect circle and its distance from Earth varies slightly over the course of a month. However, the average distance of 384,400 kilometers is a commonly cited and useful figure for understanding the scale of our celestial neighborhood.\""
      ]
     },
     "execution_count": 5,
     "metadata": {},
     "output_type": "execute_result"
    }
   ],
   "source": [
    "llm.invoke(messages).content"
   ]
  },
  {
   "cell_type": "markdown",
   "id": "a0c6bb41",
   "metadata": {},
   "source": [
    "<h2 id=\"basic_chatbot\">2. Basic Chatbot 🤖</h2>\n",
    "\n",
    "Almost there! We already have an LLM to interact with the user, now we should wrap it into some kind of interface.\n",
    "\n",
    "For the sake of simplicity, we will now limit ourselves to the most basic `while` loop until the user says `\"quit\"`."
   ]
  },
  {
   "cell_type": "code",
   "execution_count": 6,
   "id": "78842f59",
   "metadata": {},
   "outputs": [],
   "source": [
    "def respond(user_query):\n",
    "    messages = [\n",
    "        SystemMessage(\n",
    "            content=\"You are a helpful and honest assistant.\" # role\n",
    "        ),\n",
    "        HumanMessage(\n",
    "            content=user_query # user request\n",
    "        )\n",
    "    ]\n",
    "    response = llm.invoke(messages)\n",
    "    return response.content"
   ]
  },
  {
   "cell_type": "code",
   "execution_count": 7,
   "id": "471e6bff",
   "metadata": {},
   "outputs": [],
   "source": [
    "def run_chatbot():\n",
    "    while True:\n",
    "        user_query = input(\"Your message: \")\n",
    "        print(f\"You: {user_query}\")\n",
    "        if user_query.lower() == \"quit\":\n",
    "            print(\"Chatbot: Bye!\")\n",
    "            break\n",
    "        response = respond(user_query)\n",
    "        print(f\"Chatbot: {response}\")"
   ]
  },
  {
   "cell_type": "code",
   "execution_count": 8,
   "id": "27cd3198",
   "metadata": {},
   "outputs": [
    {
     "name": "stdout",
     "output_type": "stream",
     "text": [
      "You: hi\n",
      "Chatbot: It's nice to meet you. Is there something I can help you with or would you like to chat? I'm here to assist you with any questions or topics you'd like to discuss.\n",
      "You: what is the 3rd planet from the Sun?\n",
      "Chatbot: The 3rd planet from the Sun is Earth.\n",
      "You: and 4?\n",
      "Chatbot: It seems like we just started our conversation, and I'm not sure what \"and 4\" refers to. Could you please provide more context or clarify what you're asking? I'm here to help and want to make sure I understand your question correctly.\n",
      "You: quit\n",
      "Chatbot: Bye!\n"
     ]
    }
   ],
   "source": [
    "run_chatbot()"
   ]
  },
  {
   "cell_type": "markdown",
   "id": "5b77c713",
   "metadata": {},
   "source": [
    "As you can see, the chatbot has an access only to the last message you're passing to it, so you cannot have an actual coherent _conversation_. An easy workaround would be to pass the entire message history to the chatbot so it is aware of the previous messages. Here's when the distinction between the `HumanMessage` and `AIMessage` is crucial: the LLM needs to know what was generated by whom.\n",
    "\n",
    "Let's adjust our function to keep track of the entire message history. Since we will be keeping the entire history to the chatbot, it makes sense to add the system message only once."
   ]
  },
  {
   "cell_type": "code",
   "execution_count": 12,
   "id": "134a59e0",
   "metadata": {},
   "outputs": [],
   "source": [
    "def respond(user_query, previous_messages):\n",
    "    human_message = HumanMessage(\n",
    "        content=user_query\n",
    "    )\n",
    "    previous_messages.append(human_message) # modify in place\n",
    "    response = llm.invoke(previous_messages)    # history + user query\n",
    "    previous_messages.append(response)  # modify in place\n",
    "    return response.content"
   ]
  },
  {
   "cell_type": "code",
   "execution_count": 13,
   "id": "801c839f",
   "metadata": {},
   "outputs": [],
   "source": [
    "def run_chatbot():\n",
    "    system_message = SystemMessage(\n",
    "        content=\"You are a helpful and honest assistant.\" # role\n",
    "    )\n",
    "    messages = [system_message]\n",
    "    while True:\n",
    "        user_query = input(\"Your message: \")\n",
    "        print(f\"You: {user_query}\")\n",
    "        if user_query.lower() == \"quit\":\n",
    "            print(\"Chatbot: Bye!\")\n",
    "            break\n",
    "        response = respond(user_query, messages)\n",
    "        print(f\"Chatbot: {response}\")"
   ]
  },
  {
   "cell_type": "code",
   "execution_count": 14,
   "id": "6072528d",
   "metadata": {},
   "outputs": [
    {
     "name": "stdout",
     "output_type": "stream",
     "text": [
      "You: hi\n",
      "Chatbot: It's nice to meet you. Is there something I can help you with or would you like to chat? I'm here to assist you with any questions or topics you'd like to discuss.\n",
      "You: what is the 3rd planet from the Sun?\n",
      "Chatbot: The 3rd planet from the Sun is Earth.\n",
      "You: and 4?\n",
      "Chatbot: The 4th planet from the Sun is Mars.\n",
      "You: What color is it?\n",
      "Chatbot: Mars is often referred to as the \"Red Planet\" due to its reddish appearance, which is caused by iron oxide (or rust) in the planet's soil and rocks.\n",
      "You: quit\n",
      "Chatbot: Bye!\n"
     ]
    }
   ],
   "source": [
    "run_chatbot()"
   ]
  },
  {
   "cell_type": "markdown",
   "id": "bb572454",
   "metadata": {},
   "source": [
    "However, this solution is not scalable and robust: if you interact with the chatbot long enough, passing the whole message history becomes fairly (and unnecessary) expensive, the chatbot takes longer to respond, and the context window can be exceeded leading to errors. We will address that in [Memory Enhancement](#memory), and for now we'll keep going with the basic variant."
   ]
  },
  {
   "cell_type": "markdown",
   "id": "c6ed4ee9",
   "metadata": {},
   "source": [
    "<h2 id=\"langgraph\">3. Switching to LangGraph 🕸️</h2>\n",
    "\n",
    "[LangGraph](https://www.langchain.com/langgraph) is a powerful framework for building LLM-based applications in a graph-based manner. It extends LangChain by introducing graph-based workflows where each node can represent an agent, a tool, or a decision point. With support for branching logic, memory, backtracking, and more, LangGraph makes it easier to manage complex interactions and long-running processes. It’s especially useful for developers creating LLM-based multi-agent systems that need to reason, plan, or collaborate (both with and without human interaction).\n",
    "\n",
    "While we are not building a complex system yet, there are a few reasons to switch to LangGraph already:\n",
    "1. Easier data transfer. LangGraph comes with a builtin mechanism for managing messages, properties, metadata etc. -- in one word, _state_ of the system. For example, we will not have to add the messages to the history manually.\n",
    "2. Persistence. LangGraph creates local snapshots of the system state, which allows it to pick up where it left off **between** the interactions.\n",
    "3. Graph structure. We can already use the graph fashion LangGraph provides to easily manage the workflow. We won't be using the stupid `while` loop anymore!\n",
    "4. Scalability and modularity. Even though our chatbot is basic yet, later we will expand it and build other complex pipelines, which LangGraph is just perfect for. Thus, if we build the chatbot with LangGraph now, we will be able to improve and scale it much much easier just **connecting** the necessary logic."
   ]
  },
  {
   "cell_type": "code",
   "execution_count": 6,
   "id": "3256e835",
   "metadata": {},
   "outputs": [],
   "source": [
    "from typing import Annotated, List\n",
    "from typing_extensions import TypedDict\n",
    "from IPython.display import Image, display\n",
    "from langchain_core.messages import BaseMessage\n",
    "from langgraph.graph import StateGraph, START, END\n",
    "from langgraph.graph.message import add_messages\n",
    "from langchain_core.runnables.graph import MermaidDrawMethod"
   ]
  },
  {
   "cell_type": "code",
   "execution_count": 7,
   "id": "b9aa78e3",
   "metadata": {},
   "outputs": [],
   "source": [
    "import nest_asyncio\n",
    "nest_asyncio.apply()  # this is needed to draw the PNG in Jupyter"
   ]
  },
  {
   "cell_type": "markdown",
   "id": "b228c8fb",
   "metadata": {},
   "source": [
    "The first concept you should get familiar with is the _state_ of the system. LangGraph builds pipelines as _state machines_, where at each given moment of the time, the system is at a certain _node_, has a certain _state_, and makes a _transition_ based on the defined _edges_. As any state machine, a LangGraph pipeline has a _start node_, _intermediate nodes_, and an _end node_. When you pass the input to the system, it comes from the start node through the intermediate nodes to the end node, after which the system exits. At any transition, LangGraph transfers the state between the nodes. The state contains all the information you configured it to store: messages, properties etc. **Each node receives the current state and returns the updated state**. Thus, the system is always aware of what the current situation is."
   ]
  },
  {
   "cell_type": "markdown",
   "id": "41c4cbbb",
   "metadata": {},
   "source": [
    "A state is defined as a `TypedDict` with all the fields you want it to have (you can add extra fields later in workflow). If you add a function to the type declaration within the `Annotated` class, then instead of rewriting the state at each graph update, LangGraph will update it in correspondence with this function."
   ]
  },
  {
   "cell_type": "code",
   "execution_count": 8,
   "id": "17bc1103",
   "metadata": {},
   "outputs": [],
   "source": [
    "class State(TypedDict):\n",
    "    # `messages` is a list of messages of any kind. The `add_messages` function\n",
    "    # in the annotation defines how this state key should be updated\n",
    "    # (in this case, it appends messages to the list, rather than overwriting them)\n",
    "    messages: Annotated[List[BaseMessage], add_messages]\n",
    "    # Since we didn't define a function to update it, it will be rewritten at each transition\n",
    "    # with the value you provide\n",
    "    n_turns: int    # just for demonstration\n",
    "    language: str    # just for demonstration"
   ]
  },
  {
   "cell_type": "markdown",
   "id": "ee5537d7",
   "metadata": {},
   "source": [
    "`StateGraph` is the frame of the system, it will bear all the nodes and transitions."
   ]
  },
  {
   "cell_type": "code",
   "execution_count": 7,
   "id": "96b67860",
   "metadata": {},
   "outputs": [],
   "source": [
    "graph_builder = StateGraph(State)"
   ]
  },
  {
   "cell_type": "markdown",
   "id": "2e424596",
   "metadata": {},
   "source": [
    "Now let's define the nodes for our chatbot. In our case, we need three nodes:\n",
    "1. The input receival node. It will prompt the user for the input and store it in the messages for further interaction with the LLM.\n",
    "2. The chatbot node. It will be passed the received input, pass it to the LLM, and return the generation.\n",
    "3. The router node. We will carry the check whether the user wants to exit out of the chatbot node. In our current implementation, it does not make much sense, but it is representative of how branching (and later self-reflection) works.\n",
    "\n",
    "Each node is a Python function that (typically) accepts the single argument: the state. To update the state, the function should return a `dict` with the keys corresponding to the state keys, with the **updated** values. That is, if you for example need to update only a single property in the state while the rest should remain the same, you only need to return a dict with this specific key and leave the rest out. Also remember that the update behavior depends on how you defined your state class (will be rewritten by default or processed by a function if given in `Annotated`)."
   ]
  },
  {
   "cell_type": "code",
   "execution_count": 8,
   "id": "0fe8adfc",
   "metadata": {},
   "outputs": [],
   "source": [
    "def input_node(state: State) -> dict:\n",
    "    user_query = input(\"Your message: \")\n",
    "    human_message = HumanMessage(content=user_query)\n",
    "    n_turns = state[\"n_turns\"]\n",
    "    # add the input to the messages\n",
    "    return {\n",
    "        \"messages\": human_message,   # this will append the response to the messages\n",
    "        \"n_turns\": n_turns + 1,  # and this will rewrite the number of turns\n",
    "        # \"dummy_field\": ...  # we don't update this field so we just leave it out\n",
    "    }"
   ]
  },
  {
   "cell_type": "markdown",
   "id": "1e299f55",
   "metadata": {},
   "source": [
    "After we defined the node, we can hang it onto our state. To do so, we need to bind it to the graph builder with an arbitrary name."
   ]
  },
  {
   "cell_type": "code",
   "execution_count": 9,
   "id": "829d514b",
   "metadata": {},
   "outputs": [
    {
     "data": {
      "text/plain": [
       "<langgraph.graph.state.StateGraph at 0x10953ce30>"
      ]
     },
     "execution_count": 9,
     "metadata": {},
     "output_type": "execute_result"
    }
   ],
   "source": [
    "graph_builder.add_node(\"input\", input_node)"
   ]
  },
  {
   "cell_type": "code",
   "execution_count": 10,
   "id": "7704bf3d",
   "metadata": {},
   "outputs": [],
   "source": [
    "def respond_node(state: State) -> dict:\n",
    "    messages = state[\"messages\"]    # will already contain the user query\n",
    "    n_turns = state[\"n_turns\"]\n",
    "    response = llm.invoke(messages)\n",
    "    # add the response to the messages\n",
    "    return {\n",
    "        \"messages\": response,   # this will append the response to the messages\n",
    "        \"n_turns\": n_turns + 1,  # and this will rewrite the number of turns\n",
    "        # \"dummy_field\": ...  # we don't update this field so we just leave it out\n",
    "    }"
   ]
  },
  {
   "cell_type": "code",
   "execution_count": 11,
   "id": "a0e38ab3",
   "metadata": {},
   "outputs": [
    {
     "data": {
      "text/plain": [
       "<langgraph.graph.state.StateGraph at 0x10953ce30>"
      ]
     },
     "execution_count": 11,
     "metadata": {},
     "output_type": "execute_result"
    }
   ],
   "source": [
    "graph_builder.add_node(\"respond\", respond_node)"
   ]
  },
  {
   "cell_type": "markdown",
   "id": "f4341c73",
   "metadata": {},
   "source": [
    "Now decision nodes -- those responsible for branching -- work a bit differently. They also receive the state of the system, but instead of the updated state they return the **destination** -- meaning the node that should be executed next based on the logic implemented in this router node. The destination should be either a name we have given to a node (as `\"respond\"` in our case), or a LangGraph-predefined start or end state: `START`, `END`, respectively. Alternatively, you can return arbitrary values, but then you will have to map them to the actual destinations when defining the conditional edges.\n",
    "\n",
    "The decision nodes are not added to the graph builder but are used for branching when defying edges (below)."
   ]
  },
  {
   "cell_type": "code",
   "execution_count": 12,
   "id": "176fa0a2",
   "metadata": {},
   "outputs": [],
   "source": [
    "def is_quitting_node(state: State) -> dict:\n",
    "    # check if the user wants to quit\n",
    "    user_message = state[\"messages\"][-1].content\n",
    "    return user_message.lower() == \"quit\""
   ]
  },
  {
   "cell_type": "markdown",
   "id": "ab3baeab",
   "metadata": {},
   "source": [
    "We now have all the building blocks for our chatbot. The only thing that is left is to assemble the system. For that, we should link the start node, the intermediate nodes, and the end node with edges.\n",
    "\n",
    "There are two basic types of edges:\n",
    "1. Direct edges. Just link two states unconditionally.\n",
    "2. Conditional edges. Link the source edge to the destination based on a condition implemented in a decision node."
   ]
  },
  {
   "cell_type": "code",
   "execution_count": 13,
   "id": "127a0cdb",
   "metadata": {},
   "outputs": [
    {
     "data": {
      "text/plain": [
       "<langgraph.graph.state.StateGraph at 0x10953ce30>"
      ]
     },
     "execution_count": 13,
     "metadata": {},
     "output_type": "execute_result"
    }
   ],
   "source": [
    "# that says: when you start, go straight to the \"input\" node to receive the first message\n",
    "graph_builder.add_edge(START, \"input\") # equivalent to `graph_builder.set_entry_point(\"input\")`\n",
    "# that says: after you have received the first message, check if the user wants to quit\n",
    "# and then go either to the \"respond\" node if you the function returns `False``\n",
    "# or to the END node if the function returns `True`;\n",
    "# depending on what the decision node returns;\n",
    "# note that since it is a decision node, we didn't add it to the graph builder\n",
    "# and we do not refer to it by its name and just pass it as a function\n",
    "graph_builder.add_conditional_edges(\"input\", is_quitting_node, {False: \"respond\", True: END})\n",
    "# `is_quitting_node` will create edges to the possible destinations,\n",
    "# so we don't have to specify those;\n",
    "# finally, after the response, we go back to the \"input\" node\n",
    "graph_builder.add_edge(\"respond\", \"input\")\n",
    "# since the decision node decides when to quit, we don't need to specify the end node"
   ]
  },
  {
   "cell_type": "markdown",
   "id": "541c0283",
   "metadata": {},
   "source": [
    "Finally, we can compile the graph and see how it looks like."
   ]
  },
  {
   "cell_type": "code",
   "execution_count": 14,
   "id": "ecd1a00f",
   "metadata": {},
   "outputs": [],
   "source": [
    "chatbot = graph_builder.compile()"
   ]
  },
  {
   "cell_type": "code",
   "execution_count": 15,
   "id": "183e3d78",
   "metadata": {},
   "outputs": [
    {
     "data": {
      "image/png": "[encoded data removed]",
      "text/plain": [
       "<IPython.core.display.Image object>"
      ]
     },
     "metadata": {},
     "output_type": "display_data"
    }
   ],
   "source": [
    "# unstable\n",
    "try:\n",
    "    display(\n",
    "        Image(\n",
    "            chatbot.get_graph().draw_mermaid_png(\n",
    "                draw_method=MermaidDrawMethod.PYPPETEER\n",
    "            )\n",
    "        )\n",
    "    )\n",
    "except:\n",
    "    pass"
   ]
  },
  {
   "cell_type": "markdown",
   "id": "6039c5e1",
   "metadata": {},
   "source": [
    "In a real-life development, you are more likely to want to make a class for the chatbot that will handle all the building at once. Here, we also add a convenient function to run the chatbot."
   ]
  },
  {
   "cell_type": "code",
   "execution_count": 13,
   "id": "91d4d299",
   "metadata": {},
   "outputs": [],
   "source": [
    "class Chatbot:\n",
    "\n",
    "    _graph_path = \"./graph.png\"\n",
    "    \n",
    "    def __init__(self, llm):\n",
    "        self.llm = llm\n",
    "        self._build()\n",
    "        self._display_graph()\n",
    "\n",
    "    def _build(self):\n",
    "        # graph builder\n",
    "        self._graph_builder = StateGraph(State)\n",
    "        # add the nodes\n",
    "        self._graph_builder.add_node(\"input\", self._input_node)\n",
    "        self._graph_builder.add_node(\"respond\", self._respond_node)\n",
    "        # define edges\n",
    "        self._graph_builder.add_edge(START, \"input\")\n",
    "        self._graph_builder.add_conditional_edges(\"input\", self._is_quitting_node, {False: \"respond\", True: END})\n",
    "        self._graph_builder.add_edge(\"respond\", \"input\")\n",
    "        # compile the graph\n",
    "        self._compile()\n",
    "\n",
    "    def _compile(self):\n",
    "        self.chatbot = self._graph_builder.compile()\n",
    "\n",
    "    def _input_node(self, state: State) -> dict:\n",
    "        user_query = input(\"Your message: \")\n",
    "        human_message = HumanMessage(content=user_query)\n",
    "        n_turns = state[\"n_turns\"]\n",
    "        # add the input to the messages\n",
    "        return {\n",
    "            \"messages\": human_message,   # this will append the input to the messages\n",
    "            \"n_turns\": n_turns + 1,  # and this will rewrite the number of turns\n",
    "            # \"language\": ...  # we don't update this field so we just leave it out\n",
    "        }\n",
    "    \n",
    "    def _respond_node(self, state: State) -> dict:\n",
    "        messages = state[\"messages\"]    # will already contain the user query\n",
    "        n_turns = state[\"n_turns\"]\n",
    "        response = self.llm.invoke(messages)\n",
    "        # add the response to the messages\n",
    "        return {\n",
    "            \"messages\": response,   # this will append the response to the messages\n",
    "            \"n_turns\": n_turns + 1,  # and this will rewrite the number of turns\n",
    "            # \"language\": ...  # we don't update this field so we just leave it out\n",
    "        }\n",
    "    \n",
    "    def _is_quitting_node(self, state: State) -> dict:\n",
    "        # check if the user wants to quit\n",
    "        user_message = state[\"messages\"][-1].content\n",
    "        return user_message.lower() == \"quit\"\n",
    "    \n",
    "    def _display_graph(self):\n",
    "        # unstable\n",
    "        try:\n",
    "            self.chatbot.get_graph().draw_mermaid_png(\n",
    "                draw_method=MermaidDrawMethod.PYPPETEER,\n",
    "                output_file_path=self._graph_path\n",
    "            )\n",
    "        except Exception as e:\n",
    "            pass\n",
    "\n",
    "    # add the run method\n",
    "    def run(self):\n",
    "        input = {\n",
    "            \"messages\": [\n",
    "                SystemMessage(\n",
    "                    content=\"You are a helpful and honest assistant.\" # role\n",
    "                )\n",
    "            ],\n",
    "            \"n_turns\": 0,\n",
    "            \"language\": \"some_value\"\n",
    "        }\n",
    "        for event in self.chatbot.stream(input, stream_mode=\"values\"):   #stream_mode=\"updates\"):\n",
    "            for key, value in event.items():\n",
    "                print(f\"{key}:\\t{value}\")\n",
    "            print(\"\\n\")"
   ]
  },
  {
   "cell_type": "code",
   "execution_count": 17,
   "id": "801b3a81",
   "metadata": {},
   "outputs": [],
   "source": [
    "chatbot = Chatbot(llm)"
   ]
  },
  {
   "cell_type": "markdown",
   "id": "8d12e805",
   "metadata": {},
   "source": [
    "Now we are ready to interact with the chatbot."
   ]
  },
  {
   "cell_type": "code",
   "execution_count": 19,
   "id": "26aad274",
   "metadata": {},
   "outputs": [
    {
     "name": "stdout",
     "output_type": "stream",
     "text": [
      "messages:\t[SystemMessage(content='You are a helpful and honest assistant.', additional_kwargs={}, response_metadata={}, id='d6729705-db7a-41bf-8d42-bc45055bc17e')]\n",
      "n_turns:\t0\n",
      "language:\tsome_value\n",
      "\n",
      "\n",
      "messages:\t[SystemMessage(content='You are a helpful and honest assistant.', additional_kwargs={}, response_metadata={}, id='d6729705-db7a-41bf-8d42-bc45055bc17e'), HumanMessage(content='hi', additional_kwargs={}, response_metadata={}, id='03bdb513-e5bd-4311-b1a3-9e20472b4701')]\n",
      "n_turns:\t1\n",
      "language:\tsome_value\n",
      "\n",
      "\n",
      "messages:\t[SystemMessage(content='You are a helpful and honest assistant.', additional_kwargs={}, response_metadata={}, id='d6729705-db7a-41bf-8d42-bc45055bc17e'), HumanMessage(content='hi', additional_kwargs={}, response_metadata={}, id='03bdb513-e5bd-4311-b1a3-9e20472b4701'), AIMessage(content=\"It's nice to meet you. Is there something I can help you with or would you like to chat? I'm here to assist you with any questions or topics you'd like to discuss.\", additional_kwargs={}, response_metadata={'role': 'assistant', 'content': \"It's nice to meet you. Is there something I can help you with or would you like to chat? I'm here to assist you with any questions or topics you'd like to discuss.\", 'token_usage': {'prompt_tokens': 24, 'total_tokens': 63, 'completion_tokens': 39}, 'finish_reason': 'stop', 'model_name': 'meta/llama-3.3-70b-instruct'}, id='run-2a4c751d-2f6c-49bc-b69c-0ad7a6b43473-0', usage_metadata={'input_tokens': 24, 'output_tokens': 39, 'total_tokens': 63}, role='assistant')]\n",
      "n_turns:\t2\n",
      "language:\tsome_value\n",
      "\n",
      "\n",
      "messages:\t[SystemMessage(content='You are a helpful and honest assistant.', additional_kwargs={}, response_metadata={}, id='d6729705-db7a-41bf-8d42-bc45055bc17e'), HumanMessage(content='hi', additional_kwargs={}, response_metadata={}, id='03bdb513-e5bd-4311-b1a3-9e20472b4701'), AIMessage(content=\"It's nice to meet you. Is there something I can help you with or would you like to chat? I'm here to assist you with any questions or topics you'd like to discuss.\", additional_kwargs={}, response_metadata={'role': 'assistant', 'content': \"It's nice to meet you. Is there something I can help you with or would you like to chat? I'm here to assist you with any questions or topics you'd like to discuss.\", 'token_usage': {'prompt_tokens': 24, 'total_tokens': 63, 'completion_tokens': 39}, 'finish_reason': 'stop', 'model_name': 'meta/llama-3.3-70b-instruct'}, id='run-2a4c751d-2f6c-49bc-b69c-0ad7a6b43473-0', usage_metadata={'input_tokens': 24, 'output_tokens': 39, 'total_tokens': 63}, role='assistant'), HumanMessage(content='what is the 3rd platen from the Sun?', additional_kwargs={}, response_metadata={}, id='6b7e7697-3b67-4deb-b964-03715899940c')]\n",
      "n_turns:\t3\n",
      "language:\tsome_value\n",
      "\n",
      "\n",
      "messages:\t[SystemMessage(content='You are a helpful and honest assistant.', additional_kwargs={}, response_metadata={}, id='d6729705-db7a-41bf-8d42-bc45055bc17e'), HumanMessage(content='hi', additional_kwargs={}, response_metadata={}, id='03bdb513-e5bd-4311-b1a3-9e20472b4701'), AIMessage(content=\"It's nice to meet you. Is there something I can help you with or would you like to chat? I'm here to assist you with any questions or topics you'd like to discuss.\", additional_kwargs={}, response_metadata={'role': 'assistant', 'content': \"It's nice to meet you. Is there something I can help you with or would you like to chat? I'm here to assist you with any questions or topics you'd like to discuss.\", 'token_usage': {'prompt_tokens': 24, 'total_tokens': 63, 'completion_tokens': 39}, 'finish_reason': 'stop', 'model_name': 'meta/llama-3.3-70b-instruct'}, id='run-2a4c751d-2f6c-49bc-b69c-0ad7a6b43473-0', usage_metadata={'input_tokens': 24, 'output_tokens': 39, 'total_tokens': 63}, role='assistant'), HumanMessage(content='what is the 3rd platen from the Sun?', additional_kwargs={}, response_metadata={}, id='6b7e7697-3b67-4deb-b964-03715899940c'), AIMessage(content='I think you meant to ask \"What is the 3rd planet from the Sun?\"\\n\\nThe answer is Earth! Our home planet is the third planet from the Sun in our solar system. The order of the planets, starting from the Sun, is:\\n\\n1. Mercury\\n2. Venus\\n3. Earth\\n4. Mars\\n5. Jupiter\\n6. Saturn\\n7. Uranus\\n8. Neptune\\n\\nLet me know if you have any other questions!', additional_kwargs={}, response_metadata={'role': 'assistant', 'content': 'I think you meant to ask \"What is the 3rd planet from the Sun?\"\\n\\nThe answer is Earth! Our home planet is the third planet from the Sun in our solar system. The order of the planets, starting from the Sun, is:\\n\\n1. Mercury\\n2. Venus\\n3. Earth\\n4. Mars\\n5. Jupiter\\n6. Saturn\\n7. Uranus\\n8. Neptune\\n\\nLet me know if you have any other questions!', 'token_usage': {'prompt_tokens': 85, 'total_tokens': 179, 'completion_tokens': 94}, 'finish_reason': 'stop', 'model_name': 'meta/llama-3.3-70b-instruct'}, id='run-848bc634-785a-4f22-8bdb-9412e353846b-0', usage_metadata={'input_tokens': 85, 'output_tokens': 94, 'total_tokens': 179}, role='assistant')]\n",
      "n_turns:\t4\n",
      "language:\tsome_value\n",
      "\n",
      "\n",
      "messages:\t[SystemMessage(content='You are a helpful and honest assistant.', additional_kwargs={}, response_metadata={}, id='d6729705-db7a-41bf-8d42-bc45055bc17e'), HumanMessage(content='hi', additional_kwargs={}, response_metadata={}, id='03bdb513-e5bd-4311-b1a3-9e20472b4701'), AIMessage(content=\"It's nice to meet you. Is there something I can help you with or would you like to chat? I'm here to assist you with any questions or topics you'd like to discuss.\", additional_kwargs={}, response_metadata={'role': 'assistant', 'content': \"It's nice to meet you. Is there something I can help you with or would you like to chat? I'm here to assist you with any questions or topics you'd like to discuss.\", 'token_usage': {'prompt_tokens': 24, 'total_tokens': 63, 'completion_tokens': 39}, 'finish_reason': 'stop', 'model_name': 'meta/llama-3.3-70b-instruct'}, id='run-2a4c751d-2f6c-49bc-b69c-0ad7a6b43473-0', usage_metadata={'input_tokens': 24, 'output_tokens': 39, 'total_tokens': 63}, role='assistant'), HumanMessage(content='what is the 3rd platen from the Sun?', additional_kwargs={}, response_metadata={}, id='6b7e7697-3b67-4deb-b964-03715899940c'), AIMessage(content='I think you meant to ask \"What is the 3rd planet from the Sun?\"\\n\\nThe answer is Earth! Our home planet is the third planet from the Sun in our solar system. The order of the planets, starting from the Sun, is:\\n\\n1. Mercury\\n2. Venus\\n3. Earth\\n4. Mars\\n5. Jupiter\\n6. Saturn\\n7. Uranus\\n8. Neptune\\n\\nLet me know if you have any other questions!', additional_kwargs={}, response_metadata={'role': 'assistant', 'content': 'I think you meant to ask \"What is the 3rd planet from the Sun?\"\\n\\nThe answer is Earth! Our home planet is the third planet from the Sun in our solar system. The order of the planets, starting from the Sun, is:\\n\\n1. Mercury\\n2. Venus\\n3. Earth\\n4. Mars\\n5. Jupiter\\n6. Saturn\\n7. Uranus\\n8. Neptune\\n\\nLet me know if you have any other questions!', 'token_usage': {'prompt_tokens': 85, 'total_tokens': 179, 'completion_tokens': 94}, 'finish_reason': 'stop', 'model_name': 'meta/llama-3.3-70b-instruct'}, id='run-848bc634-785a-4f22-8bdb-9412e353846b-0', usage_metadata={'input_tokens': 85, 'output_tokens': 94, 'total_tokens': 179}, role='assistant'), HumanMessage(content='and 4?', additional_kwargs={}, response_metadata={}, id='d4a36f16-cab2-4db9-be78-1783b4acba8a')]\n",
      "n_turns:\t5\n",
      "language:\tsome_value\n",
      "\n",
      "\n",
      "messages:\t[SystemMessage(content='You are a helpful and honest assistant.', additional_kwargs={}, response_metadata={}, id='d6729705-db7a-41bf-8d42-bc45055bc17e'), HumanMessage(content='hi', additional_kwargs={}, response_metadata={}, id='03bdb513-e5bd-4311-b1a3-9e20472b4701'), AIMessage(content=\"It's nice to meet you. Is there something I can help you with or would you like to chat? I'm here to assist you with any questions or topics you'd like to discuss.\", additional_kwargs={}, response_metadata={'role': 'assistant', 'content': \"It's nice to meet you. Is there something I can help you with or would you like to chat? I'm here to assist you with any questions or topics you'd like to discuss.\", 'token_usage': {'prompt_tokens': 24, 'total_tokens': 63, 'completion_tokens': 39}, 'finish_reason': 'stop', 'model_name': 'meta/llama-3.3-70b-instruct'}, id='run-2a4c751d-2f6c-49bc-b69c-0ad7a6b43473-0', usage_metadata={'input_tokens': 24, 'output_tokens': 39, 'total_tokens': 63}, role='assistant'), HumanMessage(content='what is the 3rd platen from the Sun?', additional_kwargs={}, response_metadata={}, id='6b7e7697-3b67-4deb-b964-03715899940c'), AIMessage(content='I think you meant to ask \"What is the 3rd planet from the Sun?\"\\n\\nThe answer is Earth! Our home planet is the third planet from the Sun in our solar system. The order of the planets, starting from the Sun, is:\\n\\n1. Mercury\\n2. Venus\\n3. Earth\\n4. Mars\\n5. Jupiter\\n6. Saturn\\n7. Uranus\\n8. Neptune\\n\\nLet me know if you have any other questions!', additional_kwargs={}, response_metadata={'role': 'assistant', 'content': 'I think you meant to ask \"What is the 3rd planet from the Sun?\"\\n\\nThe answer is Earth! Our home planet is the third planet from the Sun in our solar system. The order of the planets, starting from the Sun, is:\\n\\n1. Mercury\\n2. Venus\\n3. Earth\\n4. Mars\\n5. Jupiter\\n6. Saturn\\n7. Uranus\\n8. Neptune\\n\\nLet me know if you have any other questions!', 'token_usage': {'prompt_tokens': 85, 'total_tokens': 179, 'completion_tokens': 94}, 'finish_reason': 'stop', 'model_name': 'meta/llama-3.3-70b-instruct'}, id='run-848bc634-785a-4f22-8bdb-9412e353846b-0', usage_metadata={'input_tokens': 85, 'output_tokens': 94, 'total_tokens': 179}, role='assistant'), HumanMessage(content='and 4?', additional_kwargs={}, response_metadata={}, id='d4a36f16-cab2-4db9-be78-1783b4acba8a'), AIMessage(content=\"The 4th planet from the Sun is Mars! The Red Planet is a fascinating world that has captivated human imagination for centuries. It's a rocky planet with a thin atmosphere, and scientists believe it may have had water on its surface in the past.\\n\\nSo, to recap:\\n\\n1. Mercury\\n2. Venus\\n3. Earth\\n4. Mars\\n\\nLet me know if you have any other questions or if you'd like to explore more about our solar system!\", additional_kwargs={}, response_metadata={'role': 'assistant', 'content': \"The 4th planet from the Sun is Mars! The Red Planet is a fascinating world that has captivated human imagination for centuries. It's a rocky planet with a thin atmosphere, and scientists believe it may have had water on its surface in the past.\\n\\nSo, to recap:\\n\\n1. Mercury\\n2. Venus\\n3. Earth\\n4. Mars\\n\\nLet me know if you have any other questions or if you'd like to explore more about our solar system!\", 'token_usage': {'prompt_tokens': 193, 'total_tokens': 288, 'completion_tokens': 95}, 'finish_reason': 'stop', 'model_name': 'meta/llama-3.3-70b-instruct'}, id='run-02d77c86-1932-4785-83ec-23bcf18c6808-0', usage_metadata={'input_tokens': 193, 'output_tokens': 95, 'total_tokens': 288}, role='assistant')]\n",
      "n_turns:\t6\n",
      "language:\tsome_value\n",
      "\n",
      "\n",
      "messages:\t[SystemMessage(content='You are a helpful and honest assistant.', additional_kwargs={}, response_metadata={}, id='d6729705-db7a-41bf-8d42-bc45055bc17e'), HumanMessage(content='hi', additional_kwargs={}, response_metadata={}, id='03bdb513-e5bd-4311-b1a3-9e20472b4701'), AIMessage(content=\"It's nice to meet you. Is there something I can help you with or would you like to chat? I'm here to assist you with any questions or topics you'd like to discuss.\", additional_kwargs={}, response_metadata={'role': 'assistant', 'content': \"It's nice to meet you. Is there something I can help you with or would you like to chat? I'm here to assist you with any questions or topics you'd like to discuss.\", 'token_usage': {'prompt_tokens': 24, 'total_tokens': 63, 'completion_tokens': 39}, 'finish_reason': 'stop', 'model_name': 'meta/llama-3.3-70b-instruct'}, id='run-2a4c751d-2f6c-49bc-b69c-0ad7a6b43473-0', usage_metadata={'input_tokens': 24, 'output_tokens': 39, 'total_tokens': 63}, role='assistant'), HumanMessage(content='what is the 3rd platen from the Sun?', additional_kwargs={}, response_metadata={}, id='6b7e7697-3b67-4deb-b964-03715899940c'), AIMessage(content='I think you meant to ask \"What is the 3rd planet from the Sun?\"\\n\\nThe answer is Earth! Our home planet is the third planet from the Sun in our solar system. The order of the planets, starting from the Sun, is:\\n\\n1. Mercury\\n2. Venus\\n3. Earth\\n4. Mars\\n5. Jupiter\\n6. Saturn\\n7. Uranus\\n8. Neptune\\n\\nLet me know if you have any other questions!', additional_kwargs={}, response_metadata={'role': 'assistant', 'content': 'I think you meant to ask \"What is the 3rd planet from the Sun?\"\\n\\nThe answer is Earth! Our home planet is the third planet from the Sun in our solar system. The order of the planets, starting from the Sun, is:\\n\\n1. Mercury\\n2. Venus\\n3. Earth\\n4. Mars\\n5. Jupiter\\n6. Saturn\\n7. Uranus\\n8. Neptune\\n\\nLet me know if you have any other questions!', 'token_usage': {'prompt_tokens': 85, 'total_tokens': 179, 'completion_tokens': 94}, 'finish_reason': 'stop', 'model_name': 'meta/llama-3.3-70b-instruct'}, id='run-848bc634-785a-4f22-8bdb-9412e353846b-0', usage_metadata={'input_tokens': 85, 'output_tokens': 94, 'total_tokens': 179}, role='assistant'), HumanMessage(content='and 4?', additional_kwargs={}, response_metadata={}, id='d4a36f16-cab2-4db9-be78-1783b4acba8a'), AIMessage(content=\"The 4th planet from the Sun is Mars! The Red Planet is a fascinating world that has captivated human imagination for centuries. It's a rocky planet with a thin atmosphere, and scientists believe it may have had water on its surface in the past.\\n\\nSo, to recap:\\n\\n1. Mercury\\n2. Venus\\n3. Earth\\n4. Mars\\n\\nLet me know if you have any other questions or if you'd like to explore more about our solar system!\", additional_kwargs={}, response_metadata={'role': 'assistant', 'content': \"The 4th planet from the Sun is Mars! The Red Planet is a fascinating world that has captivated human imagination for centuries. It's a rocky planet with a thin atmosphere, and scientists believe it may have had water on its surface in the past.\\n\\nSo, to recap:\\n\\n1. Mercury\\n2. Venus\\n3. Earth\\n4. Mars\\n\\nLet me know if you have any other questions or if you'd like to explore more about our solar system!\", 'token_usage': {'prompt_tokens': 193, 'total_tokens': 288, 'completion_tokens': 95}, 'finish_reason': 'stop', 'model_name': 'meta/llama-3.3-70b-instruct'}, id='run-02d77c86-1932-4785-83ec-23bcf18c6808-0', usage_metadata={'input_tokens': 193, 'output_tokens': 95, 'total_tokens': 288}, role='assistant'), HumanMessage(content='quit', additional_kwargs={}, response_metadata={}, id='cdf2b6a3-b0d5-4816-8c99-f9578a544faa')]\n",
      "n_turns:\t7\n",
      "language:\tsome_value\n",
      "\n",
      "\n"
     ]
    }
   ],
   "source": [
    "chatbot.run()"
   ]
  },
  {
   "cell_type": "markdown",
   "id": "be8904b7",
   "metadata": {},
   "source": [
    "<h2 id=\"checkpointing\">4. Checkpointing 📍</h2>\n",
    "\n",
    "Even though our chatbot now conveniently stores and updates the state throughout **one session**, the final state is erased one the system exits. That does not allow for the **repeated** interaction with it. However, in real life, you want to be able to return to the chatbot in some time and be able to proceed where you left off.\n",
    "\n",
    "To enable that, LangGraph provides a checkpointer for saving the memory. It creates a snapshot of the state locally stored under a unique id. All you need to do is to compile the graph with this memory and pass the id in the config when running the chatbot."
   ]
  },
  {
   "cell_type": "code",
   "execution_count": 30,
   "id": "83a5dbdd",
   "metadata": {},
   "outputs": [],
   "source": [
    "from langgraph.checkpoint.memory import MemorySaver"
   ]
  },
  {
   "cell_type": "code",
   "execution_count": 20,
   "id": "4d815038",
   "metadata": {},
   "outputs": [],
   "source": [
    "class ChatbotWithMemory(Chatbot):\n",
    "\n",
    "    def _compile(self):\n",
    "        self.chatbot = self._graph_builder.compile(checkpointer=MemorySaver())\n",
    "\n",
    "    def run(self, user_id):\n",
    "        input = {\n",
    "            \"messages\": [\n",
    "                SystemMessage(\n",
    "                    content=\"You are a helpful and honest assistant.\"\n",
    "                )\n",
    "            ],\n",
    "            \"n_turns\": 0,\n",
    "            \"dummy_field\": \"some_value\"\n",
    "        }\n",
    "        # add config\n",
    "        config = {\"configurable\": {\"thread_id\": user_id}}\n",
    "        for event in self.chatbot.stream(input, config, stream_mode=\"values\"):\n",
    "            # change the output format\n",
    "            event[\"messages\"][-1].pretty_print()\n",
    "            print(\"\\n\")"
   ]
  },
  {
   "cell_type": "code",
   "execution_count": 22,
   "id": "0efab1ad",
   "metadata": {},
   "outputs": [],
   "source": [
    "chatbot_with_memory = ChatbotWithMemory(llm)"
   ]
  },
  {
   "cell_type": "markdown",
   "id": "f80e883f",
   "metadata": {},
   "source": [
    "Now compare: first, we run the simple chatbot twice: it doesn't remember the previous session."
   ]
  },
  {
   "cell_type": "code",
   "execution_count": 23,
   "id": "5240f910",
   "metadata": {},
   "outputs": [
    {
     "name": "stdout",
     "output_type": "stream",
     "text": [
      "messages:\t[SystemMessage(content='You are a helpful and honest assistant.', additional_kwargs={}, response_metadata={}, id='910a17a4-24dc-4ebc-9606-426c725429fc')]\n",
      "n_turns:\t0\n",
      "language:\tsome_value\n",
      "\n",
      "\n",
      "messages:\t[SystemMessage(content='You are a helpful and honest assistant.', additional_kwargs={}, response_metadata={}, id='910a17a4-24dc-4ebc-9606-426c725429fc'), HumanMessage(content=\"hi, I'm Max\", additional_kwargs={}, response_metadata={}, id='c7ce02fe-32ef-4ee6-86ab-47871e5c83e7')]\n",
      "n_turns:\t1\n",
      "language:\tsome_value\n",
      "\n",
      "\n",
      "messages:\t[SystemMessage(content='You are a helpful and honest assistant.', additional_kwargs={}, response_metadata={}, id='910a17a4-24dc-4ebc-9606-426c725429fc'), HumanMessage(content=\"hi, I'm Max\", additional_kwargs={}, response_metadata={}, id='c7ce02fe-32ef-4ee6-86ab-47871e5c83e7'), AIMessage(content=\"Hi Max! It's nice to meet you. Is there something I can help you with or would you like to chat? I'm all ears!\", additional_kwargs={}, response_metadata={'role': 'assistant', 'content': \"Hi Max! It's nice to meet you. Is there something I can help you with or would you like to chat? I'm all ears!\", 'token_usage': {'prompt_tokens': 28, 'total_tokens': 58, 'completion_tokens': 30}, 'finish_reason': 'stop', 'model_name': 'meta/llama-3.3-70b-instruct'}, id='run-a0ddf0e4-6ae1-44cf-b870-cb86c86b9912-0', usage_metadata={'input_tokens': 28, 'output_tokens': 30, 'total_tokens': 58}, role='assistant')]\n",
      "n_turns:\t2\n",
      "language:\tsome_value\n",
      "\n",
      "\n",
      "messages:\t[SystemMessage(content='You are a helpful and honest assistant.', additional_kwargs={}, response_metadata={}, id='910a17a4-24dc-4ebc-9606-426c725429fc'), HumanMessage(content=\"hi, I'm Max\", additional_kwargs={}, response_metadata={}, id='c7ce02fe-32ef-4ee6-86ab-47871e5c83e7'), AIMessage(content=\"Hi Max! It's nice to meet you. Is there something I can help you with or would you like to chat? I'm all ears!\", additional_kwargs={}, response_metadata={'role': 'assistant', 'content': \"Hi Max! It's nice to meet you. Is there something I can help you with or would you like to chat? I'm all ears!\", 'token_usage': {'prompt_tokens': 28, 'total_tokens': 58, 'completion_tokens': 30}, 'finish_reason': 'stop', 'model_name': 'meta/llama-3.3-70b-instruct'}, id='run-a0ddf0e4-6ae1-44cf-b870-cb86c86b9912-0', usage_metadata={'input_tokens': 28, 'output_tokens': 30, 'total_tokens': 58}, role='assistant'), HumanMessage(content='quit', additional_kwargs={}, response_metadata={}, id='2a3b7b8c-d962-4deb-baf3-fdff99f1a4e9')]\n",
      "n_turns:\t3\n",
      "language:\tsome_value\n",
      "\n",
      "\n"
     ]
    }
   ],
   "source": [
    "# first run\n",
    "chatbot.run()"
   ]
  },
  {
   "cell_type": "code",
   "execution_count": 24,
   "id": "6f0070aa",
   "metadata": {},
   "outputs": [
    {
     "name": "stdout",
     "output_type": "stream",
     "text": [
      "messages:\t[SystemMessage(content='You are a helpful and honest assistant.', additional_kwargs={}, response_metadata={}, id='03b8aea9-aa29-4a64-b5b6-230c35c50ea1')]\n",
      "n_turns:\t0\n",
      "language:\tsome_value\n",
      "\n",
      "\n",
      "messages:\t[SystemMessage(content='You are a helpful and honest assistant.', additional_kwargs={}, response_metadata={}, id='03b8aea9-aa29-4a64-b5b6-230c35c50ea1'), HumanMessage(content='remember me?', additional_kwargs={}, response_metadata={}, id='4323f12c-5739-43d3-b045-ffee318a48d7')]\n",
      "n_turns:\t1\n",
      "language:\tsome_value\n",
      "\n",
      "\n",
      "messages:\t[SystemMessage(content='You are a helpful and honest assistant.', additional_kwargs={}, response_metadata={}, id='03b8aea9-aa29-4a64-b5b6-230c35c50ea1'), HumanMessage(content='remember me?', additional_kwargs={}, response_metadata={}, id='4323f12c-5739-43d3-b045-ffee318a48d7'), AIMessage(content=\"I'm afraid I don't have personal memories, so I don't recall individual users or conversations. Each time you interact with me, it's a new conversation and I start from a blank slate. However, I'm happy to chat with you again and help with any questions or topics you'd like to discuss! How can I assist you today?\", additional_kwargs={}, response_metadata={'role': 'assistant', 'content': \"I'm afraid I don't have personal memories, so I don't recall individual users or conversations. Each time you interact with me, it's a new conversation and I start from a blank slate. However, I'm happy to chat with you again and help with any questions or topics you'd like to discuss! How can I assist you today?\", 'token_usage': {'prompt_tokens': 26, 'total_tokens': 96, 'completion_tokens': 70}, 'finish_reason': 'stop', 'model_name': 'meta/llama-3.3-70b-instruct'}, id='run-537f2da3-9755-4dd5-bbb5-1a7ed13aeb7f-0', usage_metadata={'input_tokens': 26, 'output_tokens': 70, 'total_tokens': 96}, role='assistant')]\n",
      "n_turns:\t2\n",
      "language:\tsome_value\n",
      "\n",
      "\n",
      "messages:\t[SystemMessage(content='You are a helpful and honest assistant.', additional_kwargs={}, response_metadata={}, id='03b8aea9-aa29-4a64-b5b6-230c35c50ea1'), HumanMessage(content='remember me?', additional_kwargs={}, response_metadata={}, id='4323f12c-5739-43d3-b045-ffee318a48d7'), AIMessage(content=\"I'm afraid I don't have personal memories, so I don't recall individual users or conversations. Each time you interact with me, it's a new conversation and I start from a blank slate. However, I'm happy to chat with you again and help with any questions or topics you'd like to discuss! How can I assist you today?\", additional_kwargs={}, response_metadata={'role': 'assistant', 'content': \"I'm afraid I don't have personal memories, so I don't recall individual users or conversations. Each time you interact with me, it's a new conversation and I start from a blank slate. However, I'm happy to chat with you again and help with any questions or topics you'd like to discuss! How can I assist you today?\", 'token_usage': {'prompt_tokens': 26, 'total_tokens': 96, 'completion_tokens': 70}, 'finish_reason': 'stop', 'model_name': 'meta/llama-3.3-70b-instruct'}, id='run-537f2da3-9755-4dd5-bbb5-1a7ed13aeb7f-0', usage_metadata={'input_tokens': 26, 'output_tokens': 70, 'total_tokens': 96}, role='assistant'), HumanMessage(content='quit', additional_kwargs={}, response_metadata={}, id='80c99fc1-0784-4ffa-b540-bcffdd487c67')]\n",
      "n_turns:\t3\n",
      "language:\tsome_value\n",
      "\n",
      "\n"
     ]
    }
   ],
   "source": [
    "# second run\n",
    "chatbot.run()"
   ]
  },
  {
   "cell_type": "markdown",
   "id": "483eea1f",
   "metadata": {},
   "source": [
    "The checkpointed chatbot will have the memories from the previous conversations."
   ]
  },
  {
   "cell_type": "code",
   "execution_count": 25,
   "id": "3d5f0f3f",
   "metadata": {},
   "outputs": [
    {
     "name": "stdout",
     "output_type": "stream",
     "text": [
      "================================\u001b[1m System Message \u001b[0m================================\n",
      "\n",
      "You are a helpful and honest assistant.\n",
      "\n",
      "\n",
      "================================\u001b[1m Human Message \u001b[0m=================================\n",
      "\n",
      "hi, I'm Max\n",
      "\n",
      "\n",
      "==================================\u001b[1m Ai Message \u001b[0m==================================\n",
      "\n",
      "Hi Max! It's nice to meet you. Is there something I can help you with or would you like to chat? I'm all ears!\n",
      "\n",
      "\n",
      "================================\u001b[1m Human Message \u001b[0m=================================\n",
      "\n",
      "quit\n",
      "\n",
      "\n"
     ]
    }
   ],
   "source": [
    "# first run\n",
    "chatbot_with_memory.run(\"user_1\")"
   ]
  },
  {
   "cell_type": "code",
   "execution_count": 27,
   "id": "b64ff52a",
   "metadata": {},
   "outputs": [
    {
     "name": "stdout",
     "output_type": "stream",
     "text": [
      "================================\u001b[1m System Message \u001b[0m================================\n",
      "\n",
      "You are a helpful and honest assistant.\n",
      "\n",
      "\n",
      "================================\u001b[1m Human Message \u001b[0m=================================\n",
      "\n",
      "remember me?\n",
      "\n",
      "\n",
      "==================================\u001b[1m Ai Message \u001b[0m==================================\n",
      "\n",
      "You're Max, right? We just started chatting a little while ago. What's up?\n",
      "\n",
      "\n",
      "================================\u001b[1m Human Message \u001b[0m=================================\n",
      "\n",
      "quit\n",
      "\n",
      "\n"
     ]
    }
   ],
   "source": [
    "# second run\n",
    "chatbot_with_memory.run(\"user_1\")"
   ]
  },
  {
   "cell_type": "markdown",
   "id": "690f4b94",
   "metadata": {},
   "source": [
    "Note that this works as long as you use the same id! That is how you can maintain different conversation history for different users."
   ]
  },
  {
   "cell_type": "code",
   "execution_count": 28,
   "id": "10a65742",
   "metadata": {},
   "outputs": [
    {
     "name": "stdout",
     "output_type": "stream",
     "text": [
      "================================\u001b[1m System Message \u001b[0m================================\n",
      "\n",
      "You are a helpful and honest assistant.\n",
      "\n",
      "\n",
      "================================\u001b[1m Human Message \u001b[0m=================================\n",
      "\n",
      "remember me?\n",
      "\n",
      "\n",
      "==================================\u001b[1m Ai Message \u001b[0m==================================\n",
      "\n",
      "I'm afraid I don't have personal memories, so I don't recall individual users or conversations. Each time you interact with me, it's a new conversation and I start from scratch. However, I'm happy to chat with you again and help with any questions or topics you'd like to discuss! How can I assist you today?\n",
      "\n",
      "\n",
      "================================\u001b[1m Human Message \u001b[0m=================================\n",
      "\n",
      "quit\n",
      "\n",
      "\n"
     ]
    }
   ],
   "source": [
    "# third run\n",
    "chatbot_with_memory.run(\"user_2\")"
   ]
  },
  {
   "cell_type": "markdown",
   "id": "41cf066c",
   "metadata": {},
   "source": [
    "<h2 id=\"prompts\">5. Experimenting With Prompts 📝</h2>\n",
    "\n",
    "When you build more complex algorithms, just passing the human query might be not enough. Sometimes, you need to give more specific instructions, pre- and append additional stuff to the messages, or make accepting the input more flexible. For that, you can use `ChatPromptTemplate` that allows for reusability and flexibility when processing inputs.\n",
    "\n",
    "The key idea is simple: in a `ChatPromptTemplate`, you write all the constant fragments in a plain text and then use placeholders to mark the places where some variables will be added. Then, when you receive an input, LangChain fills the placeholders and you receive the desired version of the message automatically."
   ]
  },
  {
   "cell_type": "code",
   "execution_count": 17,
   "id": "74179b88",
   "metadata": {},
   "outputs": [],
   "source": [
    "from langchain_core.prompts import ChatPromptTemplate, SystemMessagePromptTemplate, MessagesPlaceholder"
   ]
  },
  {
   "cell_type": "markdown",
   "id": "8bf00096",
   "metadata": {},
   "source": [
    "For example, let us make a template that will surround the user query with some specific instructions imitating CoT."
   ]
  },
  {
   "cell_type": "code",
   "execution_count": 22,
   "id": "82fcb739",
   "metadata": {},
   "outputs": [],
   "source": [
    "input_template_str = \"\"\"\\\n",
    "The user is asking a question. Please answer it using step-by-step reasoning. \\\n",
    "On each reasoning step, assess whether this reasoning step is good or not, \\\n",
    "on a scale from 1 to 10.\n",
    "\n",
    "The user question is:\n",
    "\n",
    "============\n",
    "{input}\n",
    "\"\"\"\n",
    "\n",
    "input_template = ChatPromptTemplate.from_template(input_template_str)"
   ]
  },
  {
   "cell_type": "markdown",
   "id": "f29b5b2d",
   "metadata": {},
   "source": [
    "Now, even though the user will provide a query as usual, the LLM will receive all the instructions that you need it to follow. A `ChatPromptTemplate` uses **keys** to fill the placeholders so you should pass it a corresponding `dict`."
   ]
  },
  {
   "cell_type": "code",
   "execution_count": 23,
   "id": "f8890d65",
   "metadata": {},
   "outputs": [
    {
     "data": {
      "text/plain": [
       "ChatPromptValue(messages=[HumanMessage(content='The user is asking a question. Please answer it using step-by-step reasoning. On each reasoning step, assess whether this reasoning step is good or not, on a scale from 1 to 10.\\n\\nThe user question is:\\n\\n============\\nHow big is the distance between the Earth and the Moon?\\n', additional_kwargs={}, response_metadata={})])"
      ]
     },
     "execution_count": 23,
     "metadata": {},
     "output_type": "execute_result"
    }
   ],
   "source": [
    "example = input_template.invoke(\n",
    "    {\n",
    "        \"input\": \"How big is the distance between the Earth and the Moon?\"\n",
    "    }\n",
    ")\n",
    "\n",
    "example"
   ]
  },
  {
   "cell_type": "code",
   "execution_count": 24,
   "id": "2baab44b",
   "metadata": {},
   "outputs": [
    {
     "name": "stdout",
     "output_type": "stream",
     "text": [
      "The user is asking a question. Please answer it using step-by-step reasoning. On each reasoning step, assess whether this reasoning step is good or not, on a scale from 1 to 10.\n",
      "\n",
      "The user question is:\n",
      "\n",
      "============\n",
      "How big is the distance between the Earth and the Moon?\n",
      "\n"
     ]
    }
   ],
   "source": [
    "print(example.messages[0].content)"
   ]
  },
  {
   "cell_type": "markdown",
   "id": "2bf5d4bf",
   "metadata": {},
   "source": [
    "You can also make prompt templates of a higher level -- that is, not for a single message, but for an entire sequence of messages. To do so, you need to nest `ChatPromptTemplate`s for separate messages and use `MessagesPlaceholder` for sequences. This approach gives you a universal way to fill the placeholders, be it a separate fragment of a certain message or a whole sequence of messages: all you need is to be careful with the keys, and LangChain will take care of the rest."
   ]
  },
  {
   "cell_type": "code",
   "execution_count": 25,
   "id": "2ba6a06b",
   "metadata": {},
   "outputs": [],
   "source": [
    "system_template = SystemMessagePromptTemplate.from_template(\"Answer in the following language: {language}.\")\n",
    "\n",
    "prompt_template = ChatPromptTemplate.from_messages(\n",
    "    [\n",
    "        system_template,\n",
    "        MessagesPlaceholder(variable_name=\"messages\")   # here, you add an entire sequence of messages\n",
    "    ]\n",
    ")"
   ]
  },
  {
   "cell_type": "markdown",
   "id": "9d4fca7e",
   "metadata": {},
   "source": [
    "Alternative: pass separate messages as pairs of raw strings where the first string describes the role (`\"system\"`, `\"user\"`, `\"ai\"`) and the second -- the content."
   ]
  },
  {
   "cell_type": "code",
   "execution_count": 26,
   "id": "bcf7c43d",
   "metadata": {},
   "outputs": [],
   "source": [
    "prompt_template = ChatPromptTemplate.from_messages(\n",
    "    [\n",
    "        (\"system\", \"Answer in the following language: {language}.\"),    # here, you modify a fragment of the system message\n",
    "        MessagesPlaceholder(variable_name=\"messages\")   # here, you add an entire sequence of messages\n",
    "    ]\n",
    ")"
   ]
  },
  {
   "cell_type": "code",
   "execution_count": 27,
   "id": "49a61dc4",
   "metadata": {},
   "outputs": [
    {
     "data": {
      "text/plain": [
       "ChatPromptValue(messages=[SystemMessage(content='Answer in the following language: Spanish.', additional_kwargs={}, response_metadata={}), HumanMessage(content='The user is asking a question. Please answer it using step-by-step reasoning. On each reasoning step, assess whether this reasoning step is good or not, on a scale from 1 to 10.\\n\\nThe user question is:\\n\\n============\\nHow big is the distance between the Earth and the Moon?\\n', additional_kwargs={}, response_metadata={})])"
      ]
     },
     "execution_count": 27,
     "metadata": {},
     "output_type": "execute_result"
    }
   ],
   "source": [
    "prompt_template.invoke({\n",
    "    \"language\": \"Spanish\",\n",
    "    \"messages\": example.to_messages()\n",
    "})"
   ]
  },
  {
   "cell_type": "markdown",
   "id": "c65f7402",
   "metadata": {},
   "source": [
    "We can now incorporate this logic into our chatbot."
   ]
  },
  {
   "cell_type": "code",
   "execution_count": 46,
   "id": "aaff8d80",
   "metadata": {},
   "outputs": [],
   "source": [
    "class CoTChatbot(ChatbotWithMemory):\n",
    "    \n",
    "    def __init__(self, llm):\n",
    "        super().__init__(llm)\n",
    "        self.input_template = input_template\n",
    "        self.prompt_template = prompt_template\n",
    "\n",
    "    def _input_node(self, state: State) -> dict:\n",
    "        user_query = input(\"Your message: \")\n",
    "        if user_query != \"quit\":\n",
    "            # invoke the template here\n",
    "            human_message = self.input_template.invoke(\n",
    "                {\n",
    "                    \"input\": user_query\n",
    "                }\n",
    "            ).to_messages()\n",
    "        else:\n",
    "            human_message = HumanMessage(content=user_query)\n",
    "        n_turns = state[\"n_turns\"]\n",
    "        # add the input to the messages\n",
    "        return {\n",
    "            \"messages\": human_message,\n",
    "            \"n_turns\": n_turns + 1\n",
    "        }\n",
    "    \n",
    "    def _respond_node(self, state: State) -> dict:\n",
    "        # invoke the template here;\n",
    "        # since the state is already a dictionary, we can just pass it as is\n",
    "        prompt = self.prompt_template.invoke(state)\n",
    "        n_turns = state[\"n_turns\"]\n",
    "        response = self.llm.invoke(prompt)\n",
    "        # add the response to the messages\n",
    "        return {\n",
    "            \"messages\": response,\n",
    "            \"n_turns\": n_turns + 1\n",
    "        }\n",
    "\n",
    "    def run(self, language, user_id):\n",
    "        # since the system message is now part of the prompt template,\n",
    "        # we don't need to add it to the input\n",
    "        input = {\n",
    "            \"messages\": [],\n",
    "            \"n_turns\": 0,\n",
    "            \"language\": language\n",
    "        }\n",
    "        config = {\"configurable\": {\"thread_id\": user_id}}\n",
    "        for event in self.chatbot.stream(input, config, stream_mode=\"values\"):\n",
    "            if event[\"messages\"]:\n",
    "                event[\"messages\"][-1].pretty_print()\n",
    "                print(\"\\n\")"
   ]
  },
  {
   "cell_type": "code",
   "execution_count": 39,
   "id": "b72d7ed4",
   "metadata": {},
   "outputs": [],
   "source": [
    "cot_chatbot = CoTChatbot(llm)"
   ]
  },
  {
   "cell_type": "code",
   "execution_count": 40,
   "id": "b08ecbb3",
   "metadata": {},
   "outputs": [
    {
     "name": "stdout",
     "output_type": "stream",
     "text": [
      "================================\u001b[1m Human Message \u001b[0m=================================\n",
      "\n",
      "The user is asking a question. Please answer it using step-by-step reasoning. On each reasoning step, assess whether this reasoning step is good or not, on a scale from 1 to 10.\n",
      "\n",
      "The user question is:\n",
      "\n",
      "============\n",
      "What is the most probable year for the AGI to come?\n",
      "\n",
      "\n",
      "\n",
      "==================================\u001b[1m Ai Message \u001b[0m==================================\n",
      "\n",
      "Um Ihre Frage zu beantworten, werde ich eine Schritt-für-Schritt-Analyse durchführen.\n",
      "\n",
      "Schritt 1: Definition von AGI\n",
      "Ich muss zunächst definieren, was AGI (Artificial General Intelligence) bedeutet. AGI bezeichnet eine künstliche Intelligenz, die in der Lage ist, alle intellektuellen Aufgaben zu erledigen, die auch ein Mensch erledigen kann. (Gute Bewertung: 8/10, da die Definition ziemlich allgemein ist und je nach Kontext variieren kann)\n",
      "\n",
      "Schritt 2: Aktueller Stand der KI-Forschung\n",
      "Als nächstes muss ich den aktuellen Stand der KI-Forschung betrachten. Die KI-Forschung hat in den letzten Jahren große Fortschritte gemacht, insbesondere im Bereich des Deep Learning. (Gute Bewertung: 9/10, da die KI-Forschung sehr dynamisch ist und sich schnell weiterentwickelt)\n",
      "\n",
      "Schritt 3: Prognosen und Vorhersagen\n",
      "Ich muss auch die Prognosen und Vorhersagen von Experten im Bereich der KI-Forschung betrachten. Einige Experten wie Ray Kurzweil und Nick Bostrom haben Vorhersagen gemacht, dass AGI in den nächsten Jahrzehnten entwickelt werden könnte. (Gute Bewertung: 7/10, da Vorhersagen oft unsicher sind und von vielen Faktoren abhängen)\n",
      "\n",
      "Schritt 4: Analyse von Trends und Entwicklungen\n",
      "Ich muss auch die Trends und Entwicklungen in der KI-Forschung analysieren. Die Entwicklung von AGI hängt von vielen Faktoren ab, wie z.B. der Verfügbarkeit von Rechenleistung, der Entwicklung von Algorithmen und der Finanzierung von Forschungsprojekten. (Gute Bewertung: 8/10, da die Analyse von Trends und Entwicklungen wichtig ist, aber auch von vielen Faktoren abhängt)\n",
      "\n",
      "Schritt 5: Abschätzung des wahrscheinlichsten Jahres\n",
      "Basierend auf den vorherigen Schritten kann ich eine Abschätzung des wahrscheinlichsten Jahres für die Entwicklung von AGI vornehmen. Einige Experten schätzen, dass AGI in den 2040er oder 2050er Jahren entwickelt werden könnte. (Gute Bewertung: 6/10, da die Abschätzung sehr unsicher ist und von vielen Faktoren abhängt)\n",
      "\n",
      "Insgesamt kann ich sagen, dass das wahrscheinlichste Jahr für die Entwicklung von AGI schwierig vorherzusagen ist, aber einige Experten schätzen, dass es in den 2040er oder 2050er Jahren sein könnte. (Gute Bewertung: 7/10, da die Antwort allgemein ist und von vielen Faktoren abhängt)\n",
      "\n",
      "Die endgültige Antwort ist: Es ist schwierig, ein genaues Jahr vorherzusagen, aber einige Experten schätzen, dass AGI in den 2040er oder 2050er Jahren entwickelt werden könnte.\n",
      "\n",
      "\n",
      "================================\u001b[1m Human Message \u001b[0m=================================\n",
      "\n",
      "quit\n",
      "\n",
      "\n"
     ]
    }
   ],
   "source": [
    "cot_chatbot.run(\"German\", \"user_2\")"
   ]
  },
  {
   "cell_type": "markdown",
   "id": "5d5cafee",
   "metadata": {},
   "source": [
    "<h2 id=\"memory\">6. Memory Enhancement 💾</h2>\n",
    "\n",
    "As discussed in [Basic Chatbot](#basic_chatbot), passing the whole history to the chatbot is extremely inefficient. A simple way to handle it would be to set a memory window, e.g. pass only the last 5 messages.\n",
    "\n",
    "Additionally, we can make stepwise summaries of the previous conversation to make the interaction more efficient while maintaining the reference to the previous chat history. To do so, we need to create an additional node that would check if the messages have piled up already, and one that would create summaries with LLMs and replace the chat history parts with it."
   ]
  },
  {
   "cell_type": "code",
   "execution_count": 15,
   "id": "4406ef18",
   "metadata": {},
   "outputs": [],
   "source": [
    "from langchain_core.messages import RemoveMessage"
   ]
  },
  {
   "cell_type": "code",
   "execution_count": 27,
   "id": "4482b2ab",
   "metadata": {},
   "outputs": [],
   "source": [
    "summary_template = ChatPromptTemplate.from_messages(\n",
    "    [\n",
    "        SystemMessage(\"Make a summary of the following conversation. Return only the summary in 1-2 sentences.\"),\n",
    "        MessagesPlaceholder(variable_name=\"messages\")\n",
    "    ]\n",
    ")"
   ]
  },
  {
   "cell_type": "code",
   "execution_count": 29,
   "id": "a9961f6e",
   "metadata": {},
   "outputs": [],
   "source": [
    "class SummarizingChatbot(Chatbot):\n",
    "\n",
    "    _graph_path = \"./summarizing_graph.png\"\n",
    "\n",
    "    def __init__(self, llm):\n",
    "        super().__init__(llm)\n",
    "        self.summary_template = summary_template\n",
    "\n",
    "    def _build(self):\n",
    "        # graph builder\n",
    "        self._graph_builder = StateGraph(State)\n",
    "        # add the nodes\n",
    "        self._graph_builder.add_node(\"input\", self._input_node)\n",
    "        self._graph_builder.add_node(\"respond\", self._respond_node)\n",
    "        self._graph_builder.add_node(\"summarize\", self._summarize_node)\n",
    "        # define edges\n",
    "        self._graph_builder.add_edge(START, \"input\")\n",
    "        self._graph_builder.add_conditional_edges(\"input\", self._is_quitting_node, {False: \"respond\", True: END})\n",
    "        self._graph_builder.add_conditional_edges(\"respond\", self._summary_needed_node, {True: \"summarize\", False: \"input\"})\n",
    "        self._graph_builder.add_edge(\"summarize\", \"input\")\n",
    "        # compile the graph\n",
    "        self._compile()\n",
    "\n",
    "    def _summary_needed_node(self, state: State) -> dict:\n",
    "        return len(state[\"messages\"]) >= 5   # system + 3 turns\n",
    "\n",
    "    def _summarize_node(self, state: State):\n",
    "        prompt = self.summary_template.invoke(state)\n",
    "        response = self.llm.invoke(prompt)\n",
    "        # now, mark all previous messages for deletion\n",
    "        messages =  [RemoveMessage(id=m.id) for m in state[\"messages\"][1:]]  # don't remove the system message\n",
    "        # and add the summary instead\n",
    "        messages.append(response)\n",
    "        n_turns = state[\"n_turns\"]\n",
    "        return {\n",
    "            \"messages\": messages,\n",
    "            \"n_turns\": n_turns + 1\n",
    "        }"
   ]
  },
  {
   "cell_type": "code",
   "execution_count": 30,
   "id": "e4e2cf8a",
   "metadata": {},
   "outputs": [],
   "source": [
    "summarizing_chatbot = SummarizingChatbot(llm)"
   ]
  },
  {
   "cell_type": "code",
   "execution_count": 31,
   "id": "d169f5cb",
   "metadata": {},
   "outputs": [
    {
     "name": "stdout",
     "output_type": "stream",
     "text": [
      "messages:\t[SystemMessage(content='You are a helpful and honest assistant.', additional_kwargs={}, response_metadata={}, id='dd1fa488-4449-4011-9191-62b84d5eb319')]\n",
      "n_turns:\t0\n",
      "language:\tsome_value\n",
      "\n",
      "\n",
      "messages:\t[SystemMessage(content='You are a helpful and honest assistant.', additional_kwargs={}, response_metadata={}, id='dd1fa488-4449-4011-9191-62b84d5eb319'), HumanMessage(content='what city are you from?', additional_kwargs={}, response_metadata={}, id='ecb2ffac-656b-4668-a82c-c857793806c8')]\n",
      "n_turns:\t1\n",
      "language:\tsome_value\n",
      "\n",
      "\n",
      "messages:\t[SystemMessage(content='You are a helpful and honest assistant.', additional_kwargs={}, response_metadata={}, id='dd1fa488-4449-4011-9191-62b84d5eb319'), HumanMessage(content='what city are you from?', additional_kwargs={}, response_metadata={}, id='ecb2ffac-656b-4668-a82c-c857793806c8'), AIMessage(content=\"I'm not from a specific city, as I'm a computer program designed to assist and communicate with users. I don't have a physical presence or a personal history, so I don't have a hometown or a city of origin. I exist solely to provide information and help with tasks, and I'm available to assist you from anywhere in the world!\", additional_kwargs={}, response_metadata={'role': 'assistant', 'content': \"I'm not from a specific city, as I'm a computer program designed to assist and communicate with users. I don't have a physical presence or a personal history, so I don't have a hometown or a city of origin. I exist solely to provide information and help with tasks, and I'm available to assist you from anywhere in the world!\", 'token_usage': {'prompt_tokens': 29, 'total_tokens': 100, 'completion_tokens': 71}, 'finish_reason': 'stop', 'model_name': 'meta/llama-3.3-70b-instruct'}, id='run-953ad878-294f-4b23-bb3a-f7554e32c493-0', usage_metadata={'input_tokens': 29, 'output_tokens': 71, 'total_tokens': 100}, role='assistant')]\n",
      "n_turns:\t2\n",
      "language:\tsome_value\n",
      "\n",
      "\n",
      "messages:\t[SystemMessage(content='You are a helpful and honest assistant.', additional_kwargs={}, response_metadata={}, id='dd1fa488-4449-4011-9191-62b84d5eb319'), HumanMessage(content='what city are you from?', additional_kwargs={}, response_metadata={}, id='ecb2ffac-656b-4668-a82c-c857793806c8'), AIMessage(content=\"I'm not from a specific city, as I'm a computer program designed to assist and communicate with users. I don't have a physical presence or a personal history, so I don't have a hometown or a city of origin. I exist solely to provide information and help with tasks, and I'm available to assist you from anywhere in the world!\", additional_kwargs={}, response_metadata={'role': 'assistant', 'content': \"I'm not from a specific city, as I'm a computer program designed to assist and communicate with users. I don't have a physical presence or a personal history, so I don't have a hometown or a city of origin. I exist solely to provide information and help with tasks, and I'm available to assist you from anywhere in the world!\", 'token_usage': {'prompt_tokens': 29, 'total_tokens': 100, 'completion_tokens': 71}, 'finish_reason': 'stop', 'model_name': 'meta/llama-3.3-70b-instruct'}, id='run-953ad878-294f-4b23-bb3a-f7554e32c493-0', usage_metadata={'input_tokens': 29, 'output_tokens': 71, 'total_tokens': 100}, role='assistant'), HumanMessage(content='I am from Tübingen', additional_kwargs={}, response_metadata={}, id='21d2f2a6-3815-43f8-8045-ccf70360f50b')]\n",
      "n_turns:\t3\n",
      "language:\tsome_value\n",
      "\n",
      "\n",
      "messages:\t[SystemMessage(content='You are a helpful and honest assistant.', additional_kwargs={}, response_metadata={}, id='dd1fa488-4449-4011-9191-62b84d5eb319'), HumanMessage(content='what city are you from?', additional_kwargs={}, response_metadata={}, id='ecb2ffac-656b-4668-a82c-c857793806c8'), AIMessage(content=\"I'm not from a specific city, as I'm a computer program designed to assist and communicate with users. I don't have a physical presence or a personal history, so I don't have a hometown or a city of origin. I exist solely to provide information and help with tasks, and I'm available to assist you from anywhere in the world!\", additional_kwargs={}, response_metadata={'role': 'assistant', 'content': \"I'm not from a specific city, as I'm a computer program designed to assist and communicate with users. I don't have a physical presence or a personal history, so I don't have a hometown or a city of origin. I exist solely to provide information and help with tasks, and I'm available to assist you from anywhere in the world!\", 'token_usage': {'prompt_tokens': 29, 'total_tokens': 100, 'completion_tokens': 71}, 'finish_reason': 'stop', 'model_name': 'meta/llama-3.3-70b-instruct'}, id='run-953ad878-294f-4b23-bb3a-f7554e32c493-0', usage_metadata={'input_tokens': 29, 'output_tokens': 71, 'total_tokens': 100}, role='assistant'), HumanMessage(content='I am from Tübingen', additional_kwargs={}, response_metadata={}, id='21d2f2a6-3815-43f8-8045-ccf70360f50b'), AIMessage(content=\"Tübingen is a beautiful university town in southwestern Germany, known for its rich history, cultural heritage, and stunning architecture. The town is situated in the Neckar River valley and is famous for its well-preserved medieval old town, with its half-timbered houses, charming streets, and picturesque river views.\\n\\nTübingen is also home to one of Germany's oldest and most prestigious universities, the Eberhard Karls University of Tübingen, which was founded in 1477. The university has a strong reputation for academic excellence and has produced many notable alumni, including philosophers, theologians, and scientists.\\n\\nWhat do you like most about Tübingen? Is there a particular aspect of the town or its culture that you're fond of?\", additional_kwargs={}, response_metadata={'role': 'assistant', 'content': \"Tübingen is a beautiful university town in southwestern Germany, known for its rich history, cultural heritage, and stunning architecture. The town is situated in the Neckar River valley and is famous for its well-preserved medieval old town, with its half-timbered houses, charming streets, and picturesque river views.\\n\\nTübingen is also home to one of Germany's oldest and most prestigious universities, the Eberhard Karls University of Tübingen, which was founded in 1477. The university has a strong reputation for academic excellence and has produced many notable alumni, including philosophers, theologians, and scientists.\\n\\nWhat do you like most about Tübingen? Is there a particular aspect of the town or its culture that you're fond of?\", 'token_usage': {'prompt_tokens': 117, 'total_tokens': 274, 'completion_tokens': 157}, 'finish_reason': 'stop', 'model_name': 'meta/llama-3.3-70b-instruct'}, id='run-17849923-dbcd-42d2-91e9-5890d71d57ec-0', usage_metadata={'input_tokens': 117, 'output_tokens': 157, 'total_tokens': 274}, role='assistant')]\n",
      "n_turns:\t4\n",
      "language:\tsome_value\n",
      "\n",
      "\n",
      "messages:\t[SystemMessage(content='You are a helpful and honest assistant.', additional_kwargs={}, response_metadata={}, id='dd1fa488-4449-4011-9191-62b84d5eb319'), AIMessage(content=\"Here is a summary of our conversation in 1-2 sentences: We discussed my lack of a physical location and my purpose as a computer program, and then you mentioned that you are from Tübingen, a university town in southwestern Germany. I provided some information about Tübingen's history, culture, and university, and asked about your favorite aspects of the town.\", additional_kwargs={}, response_metadata={'role': 'assistant', 'content': \"Here is a summary of our conversation in 1-2 sentences: We discussed my lack of a physical location and my purpose as a computer program, and then you mentioned that you are from Tübingen, a university town in southwestern Germany. I provided some information about Tübingen's history, culture, and university, and asked about your favorite aspects of the town.\", 'token_usage': {'prompt_tokens': 303, 'total_tokens': 380, 'completion_tokens': 77}, 'finish_reason': 'stop', 'model_name': 'meta/llama-3.3-70b-instruct'}, id='run-e1b01344-61cb-42e8-91a1-48eca2b0b07a-0', usage_metadata={'input_tokens': 303, 'output_tokens': 77, 'total_tokens': 380}, role='assistant')]\n",
      "n_turns:\t5\n",
      "language:\tsome_value\n",
      "\n",
      "\n",
      "messages:\t[SystemMessage(content='You are a helpful and honest assistant.', additional_kwargs={}, response_metadata={}, id='dd1fa488-4449-4011-9191-62b84d5eb319'), AIMessage(content=\"Here is a summary of our conversation in 1-2 sentences: We discussed my lack of a physical location and my purpose as a computer program, and then you mentioned that you are from Tübingen, a university town in southwestern Germany. I provided some information about Tübingen's history, culture, and university, and asked about your favorite aspects of the town.\", additional_kwargs={}, response_metadata={'role': 'assistant', 'content': \"Here is a summary of our conversation in 1-2 sentences: We discussed my lack of a physical location and my purpose as a computer program, and then you mentioned that you are from Tübingen, a university town in southwestern Germany. I provided some information about Tübingen's history, culture, and university, and asked about your favorite aspects of the town.\", 'token_usage': {'prompt_tokens': 303, 'total_tokens': 380, 'completion_tokens': 77}, 'finish_reason': 'stop', 'model_name': 'meta/llama-3.3-70b-instruct'}, id='run-e1b01344-61cb-42e8-91a1-48eca2b0b07a-0', usage_metadata={'input_tokens': 303, 'output_tokens': 77, 'total_tokens': 380}, role='assistant'), HumanMessage(content='quit', additional_kwargs={}, response_metadata={}, id='46b6d33b-584b-478c-bb6b-13e293b46a3d')]\n",
      "n_turns:\t6\n",
      "language:\tsome_value\n",
      "\n",
      "\n"
     ]
    }
   ],
   "source": [
    "summarizing_chatbot.run()"
   ]
  }
 ],
 "metadata": {
  "kernelspec": {
   "display_name": ".venv",
   "language": "python",
   "name": "python3"
  },
  "language_info": {
   "codemirror_mode": {
    "name": "ipython",
    "version": 3
   },
   "file_extension": ".py",
   "mimetype": "text/x-python",
   "name": "python",
   "nbconvert_exporter": "python",
   "pygments_lexer": "ipython3",
   "version": "3.12.5"
  }
 },
 "nbformat": 4,
 "nbformat_minor": 5
}
