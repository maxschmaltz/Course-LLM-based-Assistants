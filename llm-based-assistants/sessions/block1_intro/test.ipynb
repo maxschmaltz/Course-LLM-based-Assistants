{
 "cells": [
  {
   "cell_type": "markdown",
   "id": "45bfe3df",
   "metadata": {},
   "source": [
    "# TEST"
   ]
  },
  {
   "cell_type": "code",
   "execution_count": null,
   "id": "59ed2cc1",
   "metadata": {
    "vscode": {
     "languageId": "plaintext"
    }
   },
   "outputs": [],
   "source": [
    "print(\"test\")"
   ]
  }
 ],
 "metadata": {
  "language_info": {
   "name": "python"
  }
 },
 "nbformat": 4,
 "nbformat_minor": 5
}
